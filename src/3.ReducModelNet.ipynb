{
 "cells": [
  {
   "cell_type": "code",
   "execution_count": null,
   "metadata": {},
   "outputs": [],
   "source": [
    "import sys\n",
    "assert sys.version_info >= (3, 5)\n",
    "import os\n",
    "import pandas as pd\n",
    "import seaborn as sns\n",
    "import numpy as np\n",
    "import matplotlib.pyplot as plt\n",
    "%matplotlib inline"
   ]
  },
  {
   "cell_type": "code",
   "execution_count": null,
   "metadata": {},
   "outputs": [],
   "source": [
    "# Estandarizador (transforma las variables en z-scores)\n",
    "from sklearn.preprocessing import StandardScaler\n",
    "from sklearn.ensemble import RandomForestClassifier\n",
    "from sklearn.metrics import classification_report\n",
    "from sklearn.model_selection import train_test_split\n",
    "import matplotlib.pyplot as plt\n",
    "import seaborn as sns"
   ]
  },
  {
   "cell_type": "code",
   "execution_count": null,
   "metadata": {},
   "outputs": [],
   "source": [
    "DATA_PATH = \"../data/union/End\"\n",
    "def load_data_prep(data_path=DATA_PATH):\n",
    "    csv_path = os.path.join(data_path, \"dataset_final.csv\")\n",
    "    return pd.read_csv(csv_path)"
   ]
  },
  {
   "cell_type": "code",
   "execution_count": null,
   "metadata": {},
   "outputs": [],
   "source": [
    "df = load_data_prep()"
   ]
  },
  {
   "cell_type": "code",
   "execution_count": null,
   "metadata": {},
   "outputs": [],
   "source": [
    "# Variable a predecir\n",
    "target = 'label'\n",
    "\n",
    "# Construcción de la matriz de features\n",
    "X = df.drop(['cod', 'label'], axis=1)\n",
    "\n",
    "# Construcción del vector a predecir\n",
    "y = df[target].values\n",
    "\n",
    "print('Dimensión de la matriz de features: {}'.format(X.shape))\n",
    "print('Dimensión del vector a predecir: {}'.format(y.shape))\n",
    "print('Vector a predecir: {}'.format(y))"
   ]
  },
  {
   "cell_type": "code",
   "execution_count": null,
   "metadata": {},
   "outputs": [],
   "source": [
    "# Solo por esta vez para a fijar la semilla de numeros aleatorios\n",
    "# para que se separe siempre igual cada vez que corramos esta notebook \n",
    "random_seed = 123475\n",
    "\n",
    "# Creacion de las matrices de entrenamiento y testeo. Aca fijamos la semilla para que siempre separe igual\n",
    "X_train, X_test, y_train, y_test = train_test_split(X, y, test_size = 0.10, random_state = random_seed)\n",
    "\n",
    "print('Dimensión de la matriz de features para entrenamiento: {}'.format(X_train.shape))\n",
    "print('Dimensión de la matriz de features para testeo: {}'.format(X_test.shape))"
   ]
  },
  {
   "cell_type": "code",
   "execution_count": null,
   "metadata": {},
   "outputs": [],
   "source": [
    "\n",
    "std_scale = StandardScaler() # Creamos el estandarizador para usarlo posteriormente\n",
    "\n",
    "# Ajustamos el estandarizador\n",
    "std_scale.fit(X_test)\n",
    "std_scale.fit(X_train)\n",
    "\n",
    "# Aplicamos el estandarizador y obtenemos la matriz de features escaleados\n",
    "X_test_scaled = std_scale.transform(X_test)\n",
    "X_scaled = std_scale.transform(X_train)"
   ]
  },
  {
   "cell_type": "code",
   "execution_count": null,
   "metadata": {},
   "outputs": [],
   "source": [
    "rfc = RandomForestClassifier()\n",
    "rfc.fit(X_scaled, y_train)"
   ]
  },
  {
   "cell_type": "code",
   "execution_count": null,
   "metadata": {},
   "outputs": [],
   "source": [
    "print(classification_report(y_true=y_test,y_pred=rfc.predict(X_test_scaled)))"
   ]
  }
 ],
 "metadata": {
  "language_info": {
   "name": "python"
  },
  "orig_nbformat": 4
 },
 "nbformat": 4,
 "nbformat_minor": 2
}
