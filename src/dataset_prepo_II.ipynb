{
 "cells": [
  {
   "cell_type": "code",
   "execution_count": 2,
   "metadata": {},
   "outputs": [
    {
     "name": "stderr",
     "output_type": "stream",
     "text": [
      "WARNING: You are using pip version 21.1.1; however, version 23.1.2 is available.\n",
      "You should consider upgrading via the 'c:\\hcgalvan\\repositorios\\hcgalvan_project\\venv\\scripts\\python.exe -m pip install --upgrade pip' command.\n"
     ]
    }
   ],
   "source": [
    "!pip install -q scikit-learn"
   ]
  },
  {
   "cell_type": "code",
   "execution_count": 33,
   "metadata": {},
   "outputs": [],
   "source": [
    "# importamos las librerias necesarias\n",
    "import sys\n",
    "assert sys.version_info >= (3, 5)\n",
    "import os\n",
    "import pandas as pd\n",
    "import numpy as np\n",
    "from pandas.plotting import scatter_matrix\n",
    "from sklearn.model_selection import train_test_split\n",
    "from sklearn.model_selection import StratifiedShuffleSplit\n",
    "\n",
    "np.random.seed(42)"
   ]
  },
  {
   "cell_type": "code",
   "execution_count": null,
   "metadata": {},
   "outputs": [],
   "source": [
    "# Solo cuando estás en Google Colab\n",
    "DATA_PATH = \"https://github.com/brainhack-school2023/hcgalvan_project/raw/main/data/\""
   ]
  },
  {
   "cell_type": "code",
   "execution_count": null,
   "metadata": {},
   "outputs": [],
   "source": [
    "if 'google.colab' in sys.modules:\n",
    "  def load_datasets_t1(datasets_path=DATA_PATH):\n",
    "    csv_path = os.path.join(datasets_path, \"dataset_final.csv\")\n",
    "    return pd.read_csv(csv_path, encoding= 'unicode_escape')\n",
    "\n",
    "\n",
    "  def load_datasets_t2(datasets_path=DATA_PATH):\n",
    "      csv_path = os.path.join(datasets_path, \"Year_2010-2011_train.csv\")\n",
    "      return pd.read_csv(csv_path, encoding= 'unicode_escape')\n",
    "\n",
    "  data_train = load_datasets_t1()\n",
    "  data_test = load_datasets_t2()"
   ]
  },
  {
   "cell_type": "code",
   "execution_count": 30,
   "metadata": {},
   "outputs": [],
   "source": [
    "DATA_PATH = \"../data\"\n",
    "def load_pat_data(data_path=DATA_PATH):\n",
    "    csv_path = os.path.join(data_path, \"dataset_final.csv\")\n",
    "    return pd.read_csv(csv_path)\n"
   ]
  },
  {
   "cell_type": "code",
   "execution_count": 31,
   "metadata": {},
   "outputs": [],
   "source": [
    "data_pre = load_pat_data()"
   ]
  },
  {
   "cell_type": "code",
   "execution_count": 34,
   "metadata": {},
   "outputs": [
    {
     "data": {
      "text/plain": [
       "<bound method NDFrame.head of           cod  fatl_ad  fatl_area_of_end_region_1  fatl_area_of_end_region_2   \n",
       "0   sub-50004  1.21144                   1414.070                   1181.010  \\\n",
       "1   sub-50005  1.03797                    419.130                    612.047   \n",
       "2   sub-50006  1.17344                   1302.440                   1309.290   \n",
       "3   sub-50007  1.13453                   2094.670                    523.912   \n",
       "4   sub-50008  1.22767                   2060.390                   2300.320   \n",
       "5   sub-50010  1.17076                   1376.860                   1379.800   \n",
       "6   sub-50013  1.23313                   1404.280                   2254.290   \n",
       "7   sub-50014  1.12666                   1270.120                   1620.700   \n",
       "8   sub-50015  1.17594                   1774.450                   2096.630   \n",
       "9   sub-50020  1.23033                   1397.430                   1698.060   \n",
       "10  sub-50021  1.14687                    931.291                   1146.730   \n",
       "11  sub-50023  1.18733                   1279.910                   1733.320   \n",
       "12  sub-50025  1.27006                   1572.720                   1318.100   \n",
       "13  sub-50027  1.19677                   1275.020                   1948.760   \n",
       "14  sub-50029  1.36699                    656.114                    971.441   \n",
       "15  sub-50032  1.18934                   1077.200                   1748.990   \n",
       "16  sub-50033  1.25342                   1200.590                   2129.920   \n",
       "17  sub-50035  1.16772                   1585.450                   1425.820   \n",
       "18  sub-50036  1.16361                   1272.080                   1403.300   \n",
       "19  sub-50038  1.19291                   2016.330                   1766.610   \n",
       "20  sub-50043  1.21737                   2219.040                   2820.310   \n",
       "21  sub-50047  1.22280                   1995.760                   2288.570   \n",
       "22  sub-50048  1.25789                   1978.140                   1378.820   \n",
       "\n",
       "    fatl_branch_volume  fatl_curl  fatl_diameter  fatl_dti_fa   \n",
       "0             1361.190    2.85689        15.8197     0.442894  \\\n",
       "1             1135.960    5.22537        10.6189     0.358137   \n",
       "2             8021.240    2.52293        17.7757     0.414455   \n",
       "3             3571.420    2.77770        16.1605     0.432708   \n",
       "4              146.891    2.48288        19.0712     0.432456   \n",
       "5             1525.710    2.36397        15.2904     0.406709   \n",
       "6             2987.770    2.48883        17.3331     0.417717   \n",
       "7              359.395    2.84480        16.5664     0.400024   \n",
       "8             3622.340    2.60924        18.0418     0.428209   \n",
       "9             8527.530    2.93572        18.2019     0.419283   \n",
       "10            4402.820    2.93241        14.4486     0.394558   \n",
       "11            6915.640    2.84382        17.9316     0.404253   \n",
       "12             566.020    2.64317        16.9361     0.381547   \n",
       "13             105.762    2.43909        16.8394     0.459764   \n",
       "14            3823.090    2.42933        12.5210     0.384990   \n",
       "15           11271.500    2.85769        18.9813     0.414345   \n",
       "16             413.254    2.62847        17.5017     0.424051   \n",
       "17            7349.460    2.85153        16.4502     0.442665   \n",
       "18             660.031    2.68513        15.5612     0.415890   \n",
       "19            2918.240    2.48287        17.9890     0.414434   \n",
       "20             560.145    2.70346        19.8700     0.403250   \n",
       "21             416.191    2.73104        20.2881     0.404936   \n",
       "22            1105.600    2.90847        18.3860     0.359981   \n",
       "\n",
       "    fatl_elongation  fatl_irregularity  ...  fatr_radius_of_end_region_1   \n",
       "0           5.35227            6.65416  ...                     11.34660  \\\n",
       "1           8.71565            5.14231  ...                     16.41810   \n",
       "2           4.61515            8.07839  ...                     11.71580   \n",
       "3           4.82994            7.73849  ...                     12.61320   \n",
       "4           4.26776            7.66658  ...                      8.62735   \n",
       "5           5.08464            6.75862  ...                     11.04890   \n",
       "6           4.94649            7.13053  ...                          NaN   \n",
       "7           4.68542            6.35601  ...                      7.94871   \n",
       "8           4.77150            7.41554  ...                     12.86320   \n",
       "9           4.46538            8.30956  ...                      9.40907   \n",
       "10          5.33780            7.74545  ...                      9.65289   \n",
       "11          4.30618            8.57387  ...                     10.53780   \n",
       "12          4.87720            6.29668  ...                     10.83900   \n",
       "13          4.65699            6.90148  ...                      9.21691   \n",
       "14          6.89169            6.83261  ...                     13.23960   \n",
       "15          4.04862            8.73994  ...                     15.35370   \n",
       "16          4.33602            6.97608  ...                     10.33070   \n",
       "17          4.49464            8.32095  ...                     13.36630   \n",
       "18          5.26675            7.07965  ...                     10.77080   \n",
       "19          4.41651            8.01830  ...                     10.33970   \n",
       "20          3.99450            7.34404  ...                      9.45643   \n",
       "21          4.01630            7.30041  ...                     13.23910   \n",
       "22          4.05896            6.88259  ...                     12.52930   \n",
       "\n",
       "    fatr_radius_of_end_region_2   fatr_rd  fatr_rdi  fatr_span   \n",
       "0                       8.47087  0.646256  0.148332    29.8820  \\\n",
       "1                      11.31020  0.678749  0.387670    19.5150   \n",
       "2                       8.82405  0.624298  0.419171    31.1895   \n",
       "3                       7.80405  0.610717  0.147398    28.4403   \n",
       "4                       7.11894  0.638292  0.216331    31.7265   \n",
       "5                       6.55213  0.713981  0.170028    29.7448   \n",
       "6                           NaN       NaN       NaN        NaN   \n",
       "7                       8.58105  0.630387  0.314649    31.0295   \n",
       "8                       7.77602  0.624609  0.306431    34.0040   \n",
       "9                       7.88041  0.693358  0.315730    30.7435   \n",
       "10                      7.78205  0.616305  0.317678    25.7105   \n",
       "11                      7.78232  0.692059  0.236332    30.5582   \n",
       "12                      8.43406  0.761967  0.135172    29.0109   \n",
       "13                      9.25850  0.627177  0.426580    30.8102   \n",
       "14                     12.49770  0.827776  0.260267    28.4893   \n",
       "15                      9.99951  0.611029  0.159070    27.5865   \n",
       "16                      7.91364  0.661554  0.287738    24.9337   \n",
       "17                      9.05802  0.589037  0.334109    23.2758   \n",
       "18                      6.94539  0.638543  0.421313    28.7833   \n",
       "19                      8.55211  0.635624  0.411011    28.0239   \n",
       "20                      7.11091  0.665066  0.310311    28.9197   \n",
       "21                     10.83620  0.697782  0.524702    25.5718   \n",
       "22                      7.23222  0.717813  0.315034    27.9928   \n",
       "\n",
       "    fatr_total_area_of_end_regions  fatr_total_radius_of_end_regions   \n",
       "0                          3548.89                           19.8175  \\\n",
       "1                          1771.51                           27.7284   \n",
       "2                          2863.40                           20.5399   \n",
       "3                          2174.97                           20.4172   \n",
       "4                          3800.57                           15.7463   \n",
       "5                          1854.75                           17.6010   \n",
       "6                              NaN                               NaN   \n",
       "7                          3145.43                           16.5298   \n",
       "8                          4889.52                           20.6393   \n",
       "9                          3194.40                           17.2895   \n",
       "10                         1997.72                           17.4349   \n",
       "11                         2576.47                           18.3201   \n",
       "12                         2615.64                           19.2731   \n",
       "13                         2687.13                           18.4754   \n",
       "14                         3511.68                           25.7373   \n",
       "15                         2351.24                           25.3532   \n",
       "16                         3673.26                           18.2443   \n",
       "17                         4041.47                           22.4243   \n",
       "18                         3691.87                           17.7162   \n",
       "19                         5334.11                           18.8919   \n",
       "20                         4838.60                           16.5673   \n",
       "21                         4747.53                           24.0753   \n",
       "22                         3012.25                           19.7615   \n",
       "\n",
       "    fatr_total_surface_area  fatr_trunk_volume  fatr_volume  \n",
       "0                   36500.5           20980.00      21910.3  \n",
       "1                   33267.0            9609.63      18477.9  \n",
       "2                   32016.4           17351.80      18546.5  \n",
       "3                   29801.3            6769.73      15710.5  \n",
       "4                   28873.9           19211.40      19821.5  \n",
       "5                   24418.2            6334.93      12798.1  \n",
       "6                       NaN                NaN          NaN  \n",
       "7                   25799.0           16272.60      16741.7  \n",
       "8                   42598.5           28043.50      28149.3  \n",
       "9                   26807.7           17097.20      18137.2  \n",
       "10                  21138.6            8370.84      10917.0  \n",
       "11                  35471.3           11556.40      19563.0  \n",
       "12                  23882.6           11931.50      13607.0  \n",
       "13                  28716.3           17617.20      17790.5  \n",
       "14                  41680.9           17543.70      24005.0  \n",
       "15                  38963.4           14570.60      19772.5  \n",
       "16                  33696.9           16447.90      20127.0  \n",
       "17                  32685.3           11486.90      19568.9  \n",
       "18                  32566.8           19137.00      20239.7  \n",
       "19                  41310.7           25692.30      26377.8  \n",
       "20                  29296.0           22046.40      22189.4  \n",
       "21                  44364.1           29790.50      30031.4  \n",
       "22                  31959.6           19360.30      19961.5  \n",
       "\n",
       "[23 rows x 59 columns]>"
      ]
     },
     "execution_count": 34,
     "metadata": {},
     "output_type": "execute_result"
    }
   ],
   "source": [
    "data_pre.head"
   ]
  },
  {
   "cell_type": "code",
   "execution_count": null,
   "metadata": {},
   "outputs": [],
   "source": [
    "# separamos los datos en train y test\n",
    "train_df, test_df = train_test_split(data_pre, test_size=0.2, random_state=42)"
   ]
  },
  {
   "cell_type": "code",
   "execution_count": null,
   "metadata": {},
   "outputs": [],
   "source": [
    "split = StratifiedShuffleSplit(n_splits=1, test_size=0.2, random_state=445543)\n",
    "for train_index, test_index in split.split(data_pre, data_pre[\"income_cat\"]):\n",
    "    train_df = data_pre.loc[train_index]\n",
    "    test_df = data_pre.loc[test_index]"
   ]
  },
  {
   "cell_type": "code",
   "execution_count": null,
   "metadata": {},
   "outputs": [],
   "source": []
  }
 ],
 "metadata": {
  "kernelspec": {
   "display_name": "venv",
   "language": "python",
   "name": "python3"
  },
  "language_info": {
   "codemirror_mode": {
    "name": "ipython",
    "version": 3
   },
   "file_extension": ".py",
   "mimetype": "text/x-python",
   "name": "python",
   "nbconvert_exporter": "python",
   "pygments_lexer": "ipython3",
   "version": "3.8.10"
  },
  "orig_nbformat": 4
 },
 "nbformat": 4,
 "nbformat_minor": 2
}
