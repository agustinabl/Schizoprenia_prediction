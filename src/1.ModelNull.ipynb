{
 "cells": [
  {
   "cell_type": "code",
   "execution_count": 1,
   "metadata": {},
   "outputs": [],
   "source": [
    "import sys\n",
    "assert sys.version_info >= (3, 5)\n",
    "import os\n",
    "import pandas as pd\n",
    "import seaborn as sns\n",
    "import numpy as np\n",
    "import matplotlib.pyplot as plt\n",
    "%matplotlib inline\n",
    "from sklearn.preprocessing import StandardScaler\n"
   ]
  },
  {
   "cell_type": "code",
   "execution_count": 2,
   "metadata": {},
   "outputs": [],
   "source": [
    "DATA_PATH = \"../data/union/End\"\n",
    "def load_data_prep(data_path=DATA_PATH):\n",
    "    csv_path = os.path.join(data_path, \"dataset_final.csv\")\n",
    "    return pd.read_csv(csv_path)"
   ]
  },
  {
   "cell_type": "code",
   "execution_count": 3,
   "metadata": {},
   "outputs": [],
   "source": [
    "df = load_data_prep()"
   ]
  },
  {
   "attachments": {},
   "cell_type": "markdown",
   "metadata": {},
   "source": [
    "*   El score por defecto (\"accuracy\") puede no ser muy bueno para medir la performance de un clasificador si los datos no están balanceados. En ese caso, recomendamos visualizar la matriz de confusión:"
   ]
  },
  {
   "cell_type": "code",
   "execution_count": 4,
   "metadata": {},
   "outputs": [
    {
     "data": {
      "text/plain": [
       "label\n",
       "1    42\n",
       "0    25\n",
       "Name: count, dtype: int64"
      ]
     },
     "execution_count": 4,
     "metadata": {},
     "output_type": "execute_result"
    }
   ],
   "source": [
    "df.label.value_counts()"
   ]
  },
  {
   "cell_type": "code",
   "execution_count": 5,
   "metadata": {},
   "outputs": [
    {
     "data": {
      "text/html": [
       "<div>\n",
       "<style scoped>\n",
       "    .dataframe tbody tr th:only-of-type {\n",
       "        vertical-align: middle;\n",
       "    }\n",
       "\n",
       "    .dataframe tbody tr th {\n",
       "        vertical-align: top;\n",
       "    }\n",
       "\n",
       "    .dataframe thead th {\n",
       "        text-align: right;\n",
       "    }\n",
       "</style>\n",
       "<table border=\"1\" class=\"dataframe\">\n",
       "  <thead>\n",
       "    <tr style=\"text-align: right;\">\n",
       "      <th></th>\n",
       "      <th>cod</th>\n",
       "      <th>afsl_ad</th>\n",
       "      <th>afsl_area_of_end_region_1</th>\n",
       "      <th>afsl_area_of_end_region_2</th>\n",
       "      <th>afsl_branch_volume</th>\n",
       "      <th>afsl_curl</th>\n",
       "      <th>afsl_diameter</th>\n",
       "      <th>afsl_dti_fa</th>\n",
       "      <th>afsl_elongation</th>\n",
       "      <th>afsl_irregularity</th>\n",
       "      <th>...</th>\n",
       "      <th>ufsr_radius_of_end_region_2</th>\n",
       "      <th>ufsr_rd</th>\n",
       "      <th>ufsr_rdi</th>\n",
       "      <th>ufsr_span</th>\n",
       "      <th>ufsr_total_area_of_end_regions</th>\n",
       "      <th>ufsr_total_radius_of_end_regions</th>\n",
       "      <th>ufsr_total_surface_area</th>\n",
       "      <th>ufsr_trunk_volume</th>\n",
       "      <th>ufsr_volume</th>\n",
       "      <th>label</th>\n",
       "    </tr>\n",
       "  </thead>\n",
       "  <tbody>\n",
       "    <tr>\n",
       "      <th>0</th>\n",
       "      <td>sub-10171</td>\n",
       "      <td>1.23721</td>\n",
       "      <td>1471.850</td>\n",
       "      <td>1248.580</td>\n",
       "      <td>11931.50</td>\n",
       "      <td>4.48975</td>\n",
       "      <td>16.4691</td>\n",
       "      <td>0.456258</td>\n",
       "      <td>7.18531</td>\n",
       "      <td>7.43516</td>\n",
       "      <td>...</td>\n",
       "      <td>9.62320</td>\n",
       "      <td>0.772912</td>\n",
       "      <td>0.330688</td>\n",
       "      <td>8.97232</td>\n",
       "      <td>2693.990</td>\n",
       "      <td>18.4475</td>\n",
       "      <td>21228.7</td>\n",
       "      <td>9877.95</td>\n",
       "      <td>14154.40</td>\n",
       "      <td>1</td>\n",
       "    </tr>\n",
       "    <tr>\n",
       "      <th>1</th>\n",
       "      <td>sub-10189</td>\n",
       "      <td>1.15361</td>\n",
       "      <td>2234.710</td>\n",
       "      <td>1009.630</td>\n",
       "      <td>8798.79</td>\n",
       "      <td>3.73118</td>\n",
       "      <td>15.0666</td>\n",
       "      <td>0.493506</td>\n",
       "      <td>6.87302</td>\n",
       "      <td>6.81786</td>\n",
       "      <td>...</td>\n",
       "      <td>10.12790</td>\n",
       "      <td>0.719298</td>\n",
       "      <td>0.151857</td>\n",
       "      <td>15.10740</td>\n",
       "      <td>2108.380</td>\n",
       "      <td>19.1517</td>\n",
       "      <td>19638.4</td>\n",
       "      <td>7918.42</td>\n",
       "      <td>11760.10</td>\n",
       "      <td>1</td>\n",
       "    </tr>\n",
       "    <tr>\n",
       "      <th>2</th>\n",
       "      <td>sub-10206</td>\n",
       "      <td>1.23390</td>\n",
       "      <td>478.866</td>\n",
       "      <td>827.487</td>\n",
       "      <td>1825.37</td>\n",
       "      <td>3.77463</td>\n",
       "      <td>11.9110</td>\n",
       "      <td>0.471517</td>\n",
       "      <td>6.58314</td>\n",
       "      <td>5.29834</td>\n",
       "      <td>...</td>\n",
       "      <td>8.21973</td>\n",
       "      <td>0.826684</td>\n",
       "      <td>0.176348</td>\n",
       "      <td>10.67070</td>\n",
       "      <td>933.249</td>\n",
       "      <td>17.1757</td>\n",
       "      <td>12013.7</td>\n",
       "      <td>2729.24</td>\n",
       "      <td>6178.25</td>\n",
       "      <td>1</td>\n",
       "    </tr>\n",
       "    <tr>\n",
       "      <th>3</th>\n",
       "      <td>sub-10217</td>\n",
       "      <td>1.18839</td>\n",
       "      <td>2978.960</td>\n",
       "      <td>1547.250</td>\n",
       "      <td>1441.49</td>\n",
       "      <td>3.34588</td>\n",
       "      <td>17.8728</td>\n",
       "      <td>0.463511</td>\n",
       "      <td>5.91539</td>\n",
       "      <td>7.33476</td>\n",
       "      <td>...</td>\n",
       "      <td>8.48388</td>\n",
       "      <td>0.736316</td>\n",
       "      <td>0.335666</td>\n",
       "      <td>9.68421</td>\n",
       "      <td>2180.850</td>\n",
       "      <td>17.1715</td>\n",
       "      <td>16714.3</td>\n",
       "      <td>10092.40</td>\n",
       "      <td>10799.40</td>\n",
       "      <td>1</td>\n",
       "    </tr>\n",
       "    <tr>\n",
       "      <th>4</th>\n",
       "      <td>sub-10225</td>\n",
       "      <td>1.23856</td>\n",
       "      <td>1581.530</td>\n",
       "      <td>683.534</td>\n",
       "      <td>7555.11</td>\n",
       "      <td>3.77320</td>\n",
       "      <td>15.7660</td>\n",
       "      <td>0.463871</td>\n",
       "      <td>6.37764</td>\n",
       "      <td>6.94917</td>\n",
       "      <td>...</td>\n",
       "      <td>12.60370</td>\n",
       "      <td>0.826085</td>\n",
       "      <td>0.444665</td>\n",
       "      <td>10.19450</td>\n",
       "      <td>691.368</td>\n",
       "      <td>24.4416</td>\n",
       "      <td>13561.0</td>\n",
       "      <td>1653.02</td>\n",
       "      <td>4666.25</td>\n",
       "      <td>1</td>\n",
       "    </tr>\n",
       "  </tbody>\n",
       "</table>\n",
       "<p>5 rows × 292 columns</p>\n",
       "</div>"
      ],
      "text/plain": [
       "         cod  afsl_ad  afsl_area_of_end_region_1  afsl_area_of_end_region_2   \n",
       "0  sub-10171  1.23721                   1471.850                   1248.580  \\\n",
       "1  sub-10189  1.15361                   2234.710                   1009.630   \n",
       "2  sub-10206  1.23390                    478.866                    827.487   \n",
       "3  sub-10217  1.18839                   2978.960                   1547.250   \n",
       "4  sub-10225  1.23856                   1581.530                    683.534   \n",
       "\n",
       "   afsl_branch_volume  afsl_curl  afsl_diameter  afsl_dti_fa  afsl_elongation   \n",
       "0            11931.50    4.48975        16.4691     0.456258          7.18531  \\\n",
       "1             8798.79    3.73118        15.0666     0.493506          6.87302   \n",
       "2             1825.37    3.77463        11.9110     0.471517          6.58314   \n",
       "3             1441.49    3.34588        17.8728     0.463511          5.91539   \n",
       "4             7555.11    3.77320        15.7660     0.463871          6.37764   \n",
       "\n",
       "   afsl_irregularity  ...  ufsr_radius_of_end_region_2   ufsr_rd  ufsr_rdi   \n",
       "0            7.43516  ...                      9.62320  0.772912  0.330688  \\\n",
       "1            6.81786  ...                     10.12790  0.719298  0.151857   \n",
       "2            5.29834  ...                      8.21973  0.826684  0.176348   \n",
       "3            7.33476  ...                      8.48388  0.736316  0.335666   \n",
       "4            6.94917  ...                     12.60370  0.826085  0.444665   \n",
       "\n",
       "   ufsr_span  ufsr_total_area_of_end_regions   \n",
       "0    8.97232                        2693.990  \\\n",
       "1   15.10740                        2108.380   \n",
       "2   10.67070                         933.249   \n",
       "3    9.68421                        2180.850   \n",
       "4   10.19450                         691.368   \n",
       "\n",
       "   ufsr_total_radius_of_end_regions  ufsr_total_surface_area   \n",
       "0                           18.4475                  21228.7  \\\n",
       "1                           19.1517                  19638.4   \n",
       "2                           17.1757                  12013.7   \n",
       "3                           17.1715                  16714.3   \n",
       "4                           24.4416                  13561.0   \n",
       "\n",
       "   ufsr_trunk_volume  ufsr_volume  label  \n",
       "0            9877.95     14154.40      1  \n",
       "1            7918.42     11760.10      1  \n",
       "2            2729.24      6178.25      1  \n",
       "3           10092.40     10799.40      1  \n",
       "4            1653.02      4666.25      1  \n",
       "\n",
       "[5 rows x 292 columns]"
      ]
     },
     "execution_count": 5,
     "metadata": {},
     "output_type": "execute_result"
    }
   ],
   "source": [
    "df[:5]"
   ]
  },
  {
   "cell_type": "code",
   "execution_count": 6,
   "metadata": {},
   "outputs": [],
   "source": [
    "# Estandarizador (transforma las variables en z-scores)\n",
    "from sklearn.preprocessing import StandardScaler\n",
    "from sklearn.metrics import confusion_matrix\n",
    "from sklearn.model_selection import train_test_split\n"
   ]
  },
  {
   "cell_type": "code",
   "execution_count": 7,
   "metadata": {},
   "outputs": [
    {
     "name": "stdout",
     "output_type": "stream",
     "text": [
      "Dimensión de la matriz de features: (67, 290)\n",
      "Dimensión del vector a predecir: (67,)\n",
      "Vector a predecir: [1 1 1 1 1 1 1 1 1 1 1 1 1 1 1 1 1 1 1 1 1 1 1 1 1 1 1 1 1 1 1 1 1 1 1 1 1\n",
      " 1 1 1 1 1 0 0 0 0 0 0 0 0 0 0 0 0 0 0 0 0 0 0 0 0 0 0 0 0 0]\n"
     ]
    }
   ],
   "source": [
    "# Variable a predecir\n",
    "target = 'label'\n",
    "\n",
    "# Construcción de la matriz de features\n",
    "X = df.drop(['cod', 'label'], axis=1)\n",
    "\n",
    "# Construcción del vector a predecir\n",
    "y = df[target].values\n",
    "\n",
    "print('Dimensión de la matriz de features: {}'.format(X.shape))\n",
    "print('Dimensión del vector a predecir: {}'.format(y.shape))\n",
    "print('Vector a predecir: {}'.format(y))"
   ]
  },
  {
   "cell_type": "code",
   "execution_count": 8,
   "metadata": {},
   "outputs": [
    {
     "name": "stdout",
     "output_type": "stream",
     "text": [
      "Dimensión de la matriz de features para entrenamiento: (60, 290)\n",
      "Dimensión de la matriz de features para testeo: (7, 290)\n"
     ]
    }
   ],
   "source": [
    "# Solo por esta vez para a fijar la semilla de numeros aleatorios\n",
    "# para que se separe siempre igual cada vez que corramos esta notebook \n",
    "random_seed = 123475\n",
    "\n",
    "# Creacion de las matrices de entrenamiento y testeo. Aca fijamos la semilla para que siempre separe igual\n",
    "X_train, X_test, y_train, y_test = train_test_split(X, y, test_size = 0.10, random_state = random_seed)\n",
    "\n",
    "print('Dimensión de la matriz de features para entrenamiento: {}'.format(X_train.shape))\n",
    "print('Dimensión de la matriz de features para testeo: {}'.format(X_test.shape))"
   ]
  },
  {
   "cell_type": "code",
   "execution_count": 9,
   "metadata": {},
   "outputs": [
    {
     "name": "stdout",
     "output_type": "stream",
     "text": [
      "0.7262500000000001\n"
     ]
    }
   ],
   "source": [
    "from sklearn.linear_model import LogisticRegression # El método de regresión logística que vamos a usar\n",
    "from sklearn.model_selection import StratifiedKFold\n",
    "from sklearn.preprocessing import MinMaxScaler\n",
    "from sklearn.metrics import roc_curve\n",
    "from sklearn.metrics import roc_auc_score\n",
    "from sklearn.model_selection import train_test_split\n",
    "\n",
    "# Definamos la matriz X\n",
    "X = X_train.values.astype(float) # En este caso no hace falta reshapear, porque ya tiene la forma que queremos\n",
    "y = y_train.copy() # Nuestra etiqueta sigue siende la misma de antes\n",
    "\n",
    "X = np.concatenate((X, X**2,X**3), axis=1) # agrego features elevados a potencias \n",
    "\n",
    "skf = StratifiedKFold(n_splits=5, shuffle=True) # 5 folds es un número típico si tenemos suficientes datos. Pedimos shuffle=True para que sea al azar la separación en subgrupos\n",
    "skf.get_n_splits(X, y) # arma los folds a partir de los datos\n",
    "\n",
    "auc_values = [] # aca es donde van a ir a parar los AUCs de cada fold\n",
    "\n",
    "for train_index, test_index in skf.split(X, y): # va generando los indices que corresponden a train y test en cada fold\n",
    "    X_train, X_test = X[train_index], X[test_index] # arma que es dato de entrenamiento y qué es dato de evaluación\n",
    "    y_train, y_test = y[train_index], y[test_index]     # idem con los targets\n",
    "\n",
    "    scaler = StandardScaler() #escaleo por separado ambos sets\n",
    "    scaler.fit(X_train) \n",
    "    X_train = scaler.transform(X_train)\n",
    "\n",
    "    scaler.fit(X_test) \n",
    "    X_test = scaler.transform(X_test)\n",
    "\n",
    "    regLog = LogisticRegression( max_iter=10000) # Inicializamos nuevamente el modelo. max_iter es la cantidad de iteraciones maximas del algoritmo de optimizacion de parametros antes de detenerse.\n",
    "    regLog.fit(X_train, y_train) # Ajustamos el modelo con los datos de entrenamiento\n",
    "\n",
    "    probas_test = regLog.predict_proba(X_test)  # probabilidades con datos de evaluación\n",
    "    fpr_test, tpr_test, thresholds_test = roc_curve(y_test, probas_test[:,1]) # para plotear curva ROC con datos de entrenamiento\n",
    "    auc_test = roc_auc_score(y_test, probas_test[:,1]) #  AUC con datos de evaluación\n",
    "    auc_values.append(auc_test)\n",
    "print(np.mean(auc_values))\n"
   ]
  },
  {
   "cell_type": "code",
   "execution_count": 10,
   "metadata": {},
   "outputs": [
    {
     "name": "stdout",
     "output_type": "stream",
     "text": [
      "El AUC promedio es:\n",
      "0.598015873015873\n"
     ]
    },
    {
     "data": {
      "text/plain": [
       "Text(0, 0.5, 'Folds')"
      ]
     },
     "execution_count": 10,
     "metadata": {},
     "output_type": "execute_result"
    },
    {
     "data": {
      "image/png": "[encoded data removed]",
      "text/plain": [
       "<Figure size 640x480 with 1 Axes>"
      ]
     },
     "metadata": {},
     "output_type": "display_data"
    }
   ],
   "source": [
    "from sklearn.model_selection import StratifiedKFold\n",
    "from sklearn.feature_selection import SelectKBest\n",
    "\n",
    "# Definamos la matriz X\n",
    "X = X_train.copy() # En este caso no hace falta reshapear, porque ya tiene la forma que queremos\n",
    "y = y_train.copy() # Nuestra etiqueta sigue siende la misma de antes\n",
    "\n",
    "X = np.concatenate((X, X**2,X**3), axis=1) # agrego features elevados a potencias \n",
    "\n",
    "Kbest = 10 # los mejores K que voy a retener\n",
    "\n",
    "skf = StratifiedKFold(n_splits=5, shuffle=True) # 5 folds es un número típico si tenemos suficientes datos. Pedimos shuffle=True para que sea al azar la separación en subgrupos\n",
    "skf.get_n_splits(X, y) # arma los folds a partir de los datos\n",
    "\n",
    "auc_values_fs =  []  # aca es donde van a ir a parar los indices de los features seleccionados en cada fold\n",
    "selected_features= np.array([]).reshape(0,X.shape[1]) # aca es donde van a ir a parar los AUCs de cada fold. El reshape es para poder concatenar luego.\n",
    "\n",
    "\n",
    "for train_index, test_index in skf.split(X, y): # va generando los indices que corresponden a train y test en cada fold\n",
    "    X_train, X_test = X[train_index], X[test_index] # arma que es dato de entrenamiento y qué es dato de evaluación\n",
    "    y_train, y_test = y[train_index], y[test_index]     # idem con los targets\n",
    "\n",
    "    scaler.fit(X_train) \n",
    "    X_train = scaler.transform(X_train)\n",
    "\n",
    "    scaler.fit(X_test) \n",
    "    X_test = scaler.transform(X_test)\n",
    "\n",
    "    selector = SelectKBest(k=Kbest) # por defecto, usa el F score de ANOVA y los Kbest features\n",
    "    selector.fit(X_train, y_train) # encuentro los F scores \n",
    "    X_train_fs = selector.transform(X_train) # me quedo con los features mejor rankeados en el set de entrenamiento\n",
    "    X_test_fs = selector.transform(X_test) # me quedo con los features mejor rankeados en el set de evaluacion\n",
    "    features = np.array(selector.get_support()).reshape((1,-1)) # esto me pone True si la variable correspondiente fue seleccionada y False sino\n",
    "\n",
    "    selected_features =  np.concatenate((selected_features,features),axis=0)\n",
    "\n",
    "    regLog = LogisticRegression(max_iter=5000) # Inicializamos nuevamente el modelo. max_iter es la cantidad de iteraciones maximas del algoritmo de optimizacion de parametros antes de detenerse.\n",
    "    regLog.fit(X_train_fs, y_train) # Ajustamos el modelo con los datos de entrenamiento\n",
    "\n",
    "\n",
    "    probas_test = regLog.predict_proba(X_test_fs)  # probabilidades con datos de evaluación\n",
    "    fpr_test, tpr_test, thresholds_test = roc_curve(y_test, probas_test[:,1]) # para plotear curva ROC con datos de entrenamiento\n",
    "    auc_test = roc_auc_score(y_test, probas_test[:,1]) #  AUC con datos de evaluación\n",
    "    auc_values_fs.append(auc_test)\n",
    "\n",
    "print('El AUC promedio es:')\n",
    "print(np.mean(auc_values_fs))\n",
    "\n",
    "\n",
    "import matplotlib.pyplot as plt\n",
    "\n",
    "plt.bar(np.arange(0,X.shape[1]),np.sum(selected_features,axis=0))\n",
    "plt.title('Seleccion de features')\n",
    "plt.xlabel('Feature')\n",
    "plt.ylabel('Folds')"
   ]
  },
  {
   "cell_type": "code",
   "execution_count": 11,
   "metadata": {},
   "outputs": [
    {
     "name": "stdout",
     "output_type": "stream",
     "text": [
      "Estos son los valores AUC para cada fold:\n",
      "[0.5333333333333334, 0.4666666666666667, 0.4, 0.6000000000000001, 0.7]\n",
      "Estos es el promedio de todos los AUC:\n",
      "0.54\n"
     ]
    }
   ],
   "source": [
    "from sklearn.model_selection import StratifiedKFold\n",
    "from sklearn.preprocessing import MinMaxScaler\n",
    "from sklearn.metrics import roc_curve\n",
    "from sklearn.metrics import roc_auc_score\n",
    "from sklearn.model_selection import train_test_split\n",
    "\n",
    "# Definamos la matriz X\n",
    "X = X_train.copy() # En este caso no hace falta reshapear, porque ya tiene la forma que queremos\n",
    "y = y_train.copy() # Nuestra etiqueta sigue siende la misma de antes\n",
    "\n",
    "X_test = X_test.copy() # En este caso no hace falta reshapear, porque ya tiene la forma que queremos\n",
    "\n",
    "skf = StratifiedKFold(n_splits=5, shuffle=True) # 5 folds es un número típico si tenemos suficientes datos. Pedimos shuffle=True para que sea al azar la separación en subgrupos\n",
    "skf.get_n_splits(X, y) # arma los folds a partir de los datos\n",
    "\n",
    "auc_values = [] # aca es donde van a ir a parar los AUCs de cada fold\n",
    "scores = np.array([])     # aca es donde van a ir a parar los scores computados para todos los casos\n",
    "indices = np.array([])    # aca es donde van a ir a parar los indices correspondientes a las entradas de scores\n",
    "targets = np.array([])    # aca es donde van a ir a parar los targets en el orden de la validacion cruzada\n",
    "\n",
    "for train_index, test_index in skf.split(X, y): # va generando los indices que corresponden a train y test en cada fold\n",
    "    X_train, X_test = X[train_index], X[test_index] # arma que es dato de entrenamiento y qué es dato de evaluación\n",
    "    y_train, y_test = y[train_index], y[test_index]     # idem con los targets\n",
    "\n",
    "    scaler.fit(X_train) \n",
    "    X_train = scaler.transform(X_train)\n",
    "\n",
    "    scaler.fit(X_test) \n",
    "    X_test = scaler.transform(X_test)\n",
    "    \n",
    "    regLog_1 = LogisticRegression( max_iter=10000) # Inicializamos nuevamente el modelo. max_iter es la cantidad de iteraciones maximas del algoritmo de optimizacion de parametros antes de detenerse.\n",
    "    regLog_1.fit(X_train, y_train) # Ajustamos el modelo con los datos de entrenamiento\n",
    "\n",
    "    probas_test = regLog_1.predict_proba(X_test)  # probabilidades con datos de evaluación\n",
    "    fpr_test, tpr_test, thresholds_test = roc_curve(y_test, probas_test[:,1]) # para plotear curva ROC con datos de entrenamiento\n",
    "    auc_test = roc_auc_score(y_test, probas_test[:,1]) #  AUC con datos de evaluación\n",
    "\n",
    "    auc_values.append(auc_test)\n",
    "    scores = np.concatenate((scores,probas_test[:,1]),axis=0)\n",
    "    indices = np.concatenate((indices,test_index),axis=0)\n",
    "    targets = np.concatenate((targets,y_test),axis=0)\n",
    "\n",
    "\n",
    "print(\"Estos son los valores AUC para cada fold:\")\n",
    "print(auc_values)\n",
    "print(\"Estos es el promedio de todos los AUC:\")\n",
    "print(np.mean(auc_values))"
   ]
  },
  {
   "cell_type": "code",
   "execution_count": 12,
   "metadata": {},
   "outputs": [
    {
     "name": "stdout",
     "output_type": "stream",
     "text": [
      "Estos son los valores AUC para cada fold:\n",
      "[0.42857142857142855, 0.21428571428571427, 0.20833333333333331]\n",
      "Estos es el promedio de todos los AUC:\n",
      "0.28373015873015867\n"
     ]
    }
   ],
   "source": [
    "from numpy.random import shuffle # para shufflear el vector\n",
    "from sklearn.preprocessing import MinMaxScaler # para escalar los datos\n",
    "\n",
    "scaler = MinMaxScaler()\n",
    "# Definamos la matriz X\n",
    "X = X_train.copy() # En este caso no hace falta reshapear, porque ya tiene la forma que queremos\n",
    "y = y_train.copy() # Nuestra etiqueta sigue siende la misma de antes\n",
    "scaler = MinMaxScaler() # escaleo por separado ambos sets\n",
    "\n",
    "scaler.fit(X_test) \n",
    "X = scaler.transform(X)\n",
    "\n",
    "y_shuffled = y.copy() # creo una copia del vector de targets, porque shuffle lo pisa\n",
    "shuffle(y_shuffled) # shuffleo\n",
    "\n",
    "skf = StratifiedKFold(n_splits=3, shuffle=True) # 5 folds es un número típico si tenemos suficientes datos. Pedimos shuffle=True para que sea al azar la separación en subgrupos\n",
    "skf.get_n_splits(X, y_shuffled) # arma los folds a partir de los datos\n",
    "\n",
    "auc_values = [] # aca es donde van a ir a parar los AUCs de cada fold\n",
    "scores_shuffled = np.array([])     # aca es donde van a ir a parar los scores computados para todos los casos\n",
    "indices_shuffled = np.array([])    # aca es donde van a ir a parar los indices correspondientes a las entradas de scores\n",
    "targets_shuffled = np.array([])    # aca es donde van a ir a parar los targets en el orden de la validacion cruzada\n",
    "\n",
    "for train_index, test_index in skf.split(X, y_shuffled): # va generando los indices que corresponden a train y test en cada fold\n",
    "    X_train, X_test = X[train_index], X[test_index] # arma que es dato de entrenamiento y qué es dato de evaluación\n",
    "    y_train, y_test = y_shuffled[train_index], y_shuffled[test_index]     # idem con los targets\n",
    "\n",
    "    scaler.fit(X_train) \n",
    "    X_train = scaler.transform(X_train)\n",
    "\n",
    "    scaler.fit(X_test) \n",
    "    X_test = scaler.transform(X_test)\n",
    "\n",
    "    regLog_1 = LogisticRegression(max_iter=10000) # Inicializamos nuevamente el modelo. max_iter es la cantidad de iteraciones maximas del algoritmo de optimizacion de parametros antes de detenerse.\n",
    "    regLog_1.fit(X_train, y_train) # Ajustamos el modelo con los datos de entrenamiento\n",
    "\n",
    "    probas_test = regLog_1.predict_proba(X_test)  # probabilidades con datos de evaluación\n",
    "    fpr_test, tpr_test, thresholds_test = roc_curve(y_test, probas_test[:,1]) # para plotear curva ROC con datos de entrenamiento\n",
    "    auc_test = roc_auc_score(y_test, probas_test[:,1]) #  AUC con datos de evaluación\n",
    "\n",
    "    auc_values.append(auc_test)\n",
    "    scores_shuffled  = np.concatenate((scores_shuffled ,probas_test[:,1]),axis=0)\n",
    "    indices_shuffled  = np.concatenate((indices_shuffled ,test_index),axis=0)\n",
    "    targets_shuffled  = np.concatenate((targets_shuffled ,y_test),axis=0)\n",
    "\n",
    "\n",
    "print(\"Estos son los valores AUC para cada fold:\")\n",
    "print(auc_values)\n",
    "print(\"Estos es el promedio de todos los AUC:\")\n",
    "print(np.mean(auc_values))"
   ]
  },
  {
   "cell_type": "code",
   "execution_count": 13,
   "metadata": {},
   "outputs": [
    {
     "data": {
      "text/plain": [
       "<matplotlib.legend.Legend at 0x18b8aa31640>"
      ]
     },
     "execution_count": 13,
     "metadata": {},
     "output_type": "execute_result"
    },
    {
     "data": {
      "image/png": "[encoded data removed]",
      "text/plain": [
       "<Figure size 1000x700 with 1 Axes>"
      ]
     },
     "metadata": {},
     "output_type": "display_data"
    }
   ],
   "source": [
    "from sklearn.metrics import roc_curve\n",
    "from sklearn.metrics import roc_auc_score\n",
    "\n",
    "# este codigo fue sacado del notebook de ROC AUC (clase 10) y sirve para visualizar la curva ROC\n",
    "\n",
    "fpr, tpr, thresholds = roc_curve(targets, scores)\n",
    "fpr_shuffled, tpr_shuffled, thresholds_shuffled = roc_curve(targets_shuffled, scores_shuffled)\n",
    "\n",
    "fig, ax = plt.subplots(figsize = (10,7))\n",
    "ax.set_title('Verdaderos positivos vs. falsos positivos')\n",
    "ax.plot(fpr,tpr, label='Modelo real')\n",
    "ax.plot(fpr_shuffled,tpr_shuffled, label='Modelo nulo')\n",
    "\n",
    "ax.set_xlabel('Tasa de falsos positivos') # Etiqueta del eje x\n",
    "ax.set_ylabel('Tasa de verdaderos positivos') # Etiqueta del eje y\n",
    "plt.legend()"
   ]
  },
  {
   "cell_type": "code",
   "execution_count": 14,
   "metadata": {},
   "outputs": [
    {
     "name": "stdout",
     "output_type": "stream",
     "text": [
      "Sin shufflear:\n",
      "0.7\n",
      "Modelo nulo (shuffleando):\n",
      "[0.73333333 0.54166667 0.46666667 0.675      0.76666667 0.49166667\n",
      " 0.10833333 0.43333333 0.36666667 0.24166667 0.225      0.69166667\n",
      " 0.63333333 0.575      0.21666667 0.375      0.65       0.175\n",
      " 0.55833333 0.48333333 0.63333333 0.39166667 0.75       0.4\n",
      " 0.65       0.60833333 0.55       0.81666667 0.3        0.64166667\n",
      " 0.425      0.35       0.475      0.31666667 0.26666667 0.36666667\n",
      " 0.325      0.46666667 0.48333333 0.69166667 0.56666667 0.35\n",
      " 0.38333333 0.5        0.475      0.56666667 0.575      0.61666667\n",
      " 0.40833333 0.75833333 0.63333333 0.31666667 0.425      0.375\n",
      " 0.58333333 0.36666667 0.56666667 0.46666667 0.40833333 0.25\n",
      " 0.71666667 0.40833333 0.43333333 0.35       0.44166667 0.35\n",
      " 0.64166667 0.675      0.38333333 0.65833333 0.69166667 0.24166667\n",
      " 0.725      0.39166667 0.4        0.6        0.475      0.4\n",
      " 0.5        0.9        0.4        0.65833333 0.36666667 0.625\n",
      " 0.60833333 0.575      0.525      0.60833333 0.575      0.525\n",
      " 0.425      0.30833333 0.49166667 0.76666667 0.58333333 0.46666667\n",
      " 0.275      0.65       0.6        0.1       ]\n",
      "p-valor:\n",
      "0.09900990099009901\n"
     ]
    }
   ],
   "source": [
    "from sklearn.model_selection import permutation_test_score\n",
    "\n",
    "regLog = LogisticRegression( max_iter=1000) # creamos un objeto clasificador\n",
    "skf = StratifiedKFold(n_splits=5, shuffle=True) # creamos un objeto de cross-validation\n",
    "\n",
    "AUC, AUC_shuffled, pvalue = permutation_test_score(regLog, X, y, scoring=\"roc_auc\", cv=skf, n_permutations=100) # aca aplico la funcion \n",
    "# Notar que la función de arriba recibe como argumentos el clasificador (regLog) y la forma de hacer validación cruzada (skf), \n",
    "# además de los datos y el número de permutaciones que hacemos para construir nuestro modelo al azar.\n",
    "\n",
    "print('Sin shufflear:')\n",
    "print(AUC)\n",
    "print('Modelo nulo (shuffleando):')\n",
    "print(AUC_shuffled)\n",
    "print('p-valor:')\n",
    "print(pvalue)"
   ]
  },
  {
   "cell_type": "code",
   "execution_count": 15,
   "metadata": {},
   "outputs": [
    {
     "data": {
      "text/plain": [
       "Text(0, 0.5, 'Probabilidad')"
      ]
     },
     "execution_count": 15,
     "metadata": {},
     "output_type": "execute_result"
    },
    {
     "data": {
      "image/png": "[encoded data removed]",
      "text/plain": [
       "<Figure size 640x480 with 1 Axes>"
      ]
     },
     "metadata": {},
     "output_type": "display_data"
    }
   ],
   "source": [
    "fig, ax = plt.subplots()\n",
    "\n",
    "ax.hist(AUC_shuffled, bins=20, density=True) # armo el histograma de valores, normalizado para tener la probabilidad\n",
    "ax.axvline(AUC, ls='--', color='r') # una linea vertical para indicar el AUC sin shufflear (modelo real)\n",
    "ax.set_xlabel(\"AUC\") # nombre de eje x\n",
    "ax.set_ylabel(\"Probabilidad\") # nombre de eje y"
   ]
  },
  {
   "cell_type": "code",
   "execution_count": 16,
   "metadata": {},
   "outputs": [
    {
     "name": "stdout",
     "output_type": "stream",
     "text": [
      "[[0.0211306  0.9788694 ]\n",
      " [0.97985787 0.02014213]\n",
      " [0.02238721 0.97761279]\n",
      " [0.03294253 0.96705747]\n",
      " [0.01746309 0.98253691]\n",
      " [0.9068182  0.0931818 ]\n",
      " [0.02842169 0.97157831]\n",
      " [0.95498256 0.04501744]\n",
      " [0.02777368 0.97222632]\n",
      " [0.00494693 0.99505307]\n",
      " [0.03479038 0.96520962]\n",
      " [0.0209417  0.9790583 ]\n",
      " [0.04894406 0.95105594]\n",
      " [0.95479409 0.04520591]\n",
      " [0.02639508 0.97360492]\n",
      " [0.9471011  0.0528989 ]\n",
      " [0.07409282 0.92590718]\n",
      " [0.02617377 0.97382623]\n",
      " [0.95570761 0.04429239]\n",
      " [0.95427882 0.04572118]\n",
      " [0.93687199 0.06312801]\n",
      " [0.02323117 0.97676883]]\n"
     ]
    }
   ],
   "source": [
    "from sklearn.preprocessing import StandardScaler\n",
    "from sklearn.linear_model import LogisticRegression # El método de regresión logística que vamos a usar\n",
    "\n",
    "# Definamos la matriz X\n",
    "X = X_train.copy() # En este caso no hace falta reshapear, porque ya tiene la forma que queremos\n",
    "y = y_train.copy() # Nuestra etiqueta sigue siende la misma de antes\n",
    "scaler = MinMaxScaler() # escaleo por separado ambos sets\n",
    "\n",
    "scaler.fit(X) # encuentro los parametros para el escaleo\n",
    "X = scaler.transform(X) # aplico la transformacion\n",
    "\n",
    "regLog = LogisticRegression(max_iter=1000) # Inicializamos nuevamente el modelo\n",
    "regLog.fit(X, y) # Ajustamos el modelo con los parámetros\n",
    "probas = regLog.predict_proba(X)  # este es el metodo para obtener las predicciones de probabilidades en base a la matriz features\n",
    "print(probas)"
   ]
  },
  {
   "cell_type": "code",
   "execution_count": 17,
   "metadata": {},
   "outputs": [
    {
     "name": "stdout",
     "output_type": "stream",
     "text": [
      "Matriz de confusion del modelo es:\n",
      "[[ 8  0]\n",
      " [ 0 14]]\n",
      "Tasa de verdaderos positivos: 1.0\n",
      "Tasa de falsos positivos: 0.0\n"
     ]
    }
   ],
   "source": [
    "from sklearn.metrics import confusion_matrix\n",
    "import matplotlib.pylab as plt # Para gráficos\n",
    "\n",
    "def TPR_FPR(cm): # computa la tasa de verdaderos y falsos positivos a partir de la matriz de confusion\n",
    "  TPR = cm[1,1]/(cm[1,1]+cm[0,1])\n",
    "  FPR = cm[1,0]/(cm[1,0]+cm[0,0])\n",
    "  return [TPR,FPR] # devuelve una lista donde el primer elemento es la tasa de verdaderos positivos y el segundo la tasa de falsos negativos\n",
    "\n",
    "T = 0.5 # definimos el umbral\n",
    "ypred = np.zeros(probas.shape[0]) # armamos un vector que tiene todos ceros y tiene la longitud del vector de etiquetas\n",
    "ypred[probas[:,1]>T] = 1 # donde la probabilidad es mayor que T, ponemos 1\n",
    "cm = confusion_matrix(ypred, y) # metemos en la matriz de confusion\n",
    "metricas = TPR_FPR(cm)\n",
    "\n",
    "print('Matriz de confusion del modelo es:')\n",
    "print(cm)\n",
    "print('Tasa de verdaderos positivos: {}'.format(round(metricas[0],4)))  \n",
    "print('Tasa de falsos positivos: {}'.format(round(metricas[1],4)))  \n"
   ]
  },
  {
   "attachments": {},
   "cell_type": "markdown",
   "metadata": {},
   "source": [
    "![metrics.png](data:image/png;base64,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)\n",
    "\n",
    "![download (3).png](data:image/png;base64,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)"
   ]
  },
  {
   "cell_type": "code",
   "execution_count": 18,
   "metadata": {},
   "outputs": [
    {
     "name": "stdout",
     "output_type": "stream",
     "text": [
      "Matriz de confusion del modelo es:\n",
      "[[ 8  0]\n",
      " [ 0 14]]\n",
      "Sensibilidad del modelo es de: 1.0\n",
      "Especificidad del modelo es de: 1.0\n",
      "BA del modelo es de: 1.0\n"
     ]
    }
   ],
   "source": [
    "def balanced_accuracy(cm): # funcion para calcular la \"balanced accuracy\"\n",
    "  sensibilidad = cm[1,1]/(cm[1,1]+cm[0,1])\n",
    "  especificidad = cm[0,0]/(cm[1,0]+cm[0,0])\n",
    "  return [sensibilidad, especificidad, (sensibilidad + especificidad)/2]\n",
    "cm = confusion_matrix(ypred, y) \n",
    "metricas = balanced_accuracy(cm)\n",
    "print('Matriz de confusion del modelo es:')\n",
    "print(cm)\n",
    "print('Sensibilidad del modelo es de: {}'.format(round(metricas[0],4)))  \n",
    "print('Especificidad del modelo es de: {}'.format(round(metricas[1],4)))  \n",
    "print('BA del modelo es de: {}'.format(round(metricas[2],4))) "
   ]
  }
 ],
 "metadata": {
  "kernelspec": {
   "display_name": "venv",
   "language": "python",
   "name": "python3"
  },
  "language_info": {
   "codemirror_mode": {
    "name": "ipython",
    "version": 3
   },
   "file_extension": ".py",
   "mimetype": "text/x-python",
   "name": "python",
   "nbconvert_exporter": "python",
   "pygments_lexer": "ipython3",
   "version": "3.8.10"
  },
  "orig_nbformat": 4
 },
 "nbformat": 4,
 "nbformat_minor": 2
}
