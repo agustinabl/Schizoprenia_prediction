{
 "cells": [
  {
   "cell_type": "code",
   "execution_count": null,
   "metadata": {},
   "outputs": [],
   "source": [
    "from utils import processdata as pr"
   ]
  },
  {
   "cell_type": "code",
   "execution_count": null,
   "metadata": {},
   "outputs": [],
   "source": [
    "# Leer, ordenar, agrupar  datos\n",
    "# Los datos se guardan en archivo con nombre dataset_final.csv\n",
    "# Se muestra en pantalla el dataframe que fue reemplazado los valores nulos con\n",
    "# la media de los valores de la columna\n",
    "\n",
    "dt = pr.dataread()\n",
    "df = pr.datast(dt)"
   ]
  },
  {
   "cell_type": "code",
   "execution_count": null,
   "metadata": {},
   "outputs": [],
   "source": [
    "df.label.value_counts()"
   ]
  }
 ],
 "metadata": {
  "language_info": {
   "name": "python"
  },
  "orig_nbformat": 4
 },
 "nbformat": 4,
 "nbformat_minor": 2
}
