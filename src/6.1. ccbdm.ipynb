{
 "cells": [
  {
   "cell_type": "markdown",
   "metadata": {},
   "source": [
    "Trabajamos con el feature ccbd_diameter\n",
    "y las confusoras 'ccbd_qa', 'age' y gender"
   ]
  },
  {
   "cell_type": "code",
   "execution_count": 48,
   "metadata": {},
   "outputs": [],
   "source": [
    "# !pip install -q xgboost"
   ]
  },
  {
   "cell_type": "code",
   "execution_count": 49,
   "metadata": {},
   "outputs": [],
   "source": [
    "import sys\n",
    "assert sys.version_info >= (3, 5)\n",
    "import os\n",
    "import pandas as pd\n",
    "import seaborn as sns\n",
    "import numpy as np\n",
    "import matplotlib.pyplot as plt\n",
    "import warnings\n",
    "warnings.filterwarnings('ignore') # Para evitar los molestos avisos.\n",
    "%matplotlib inline"
   ]
  },
  {
   "cell_type": "code",
   "execution_count": 50,
   "metadata": {},
   "outputs": [],
   "source": [
    "import scipy.stats as stats\n",
    "import seaborn as sns\n",
    "from sklearn.cluster import KMeans "
   ]
  },
  {
   "cell_type": "code",
   "execution_count": 51,
   "metadata": {},
   "outputs": [],
   "source": [
    "from sklearn.naive_bayes import MultinomialNB\n",
    "from sklearn.linear_model import LogisticRegression # sci-kit learn\n",
    "from sklearn.neighbors import KNeighborsClassifier\n",
    "from sklearn.svm import LinearSVC\n",
    "from sklearn.tree import DecisionTreeClassifier\n",
    "from sklearn.ensemble import BaggingClassifier\n",
    "from sklearn.ensemble import AdaBoostClassifier\n",
    "from sklearn.ensemble import RandomForestClassifier\n",
    "from sklearn.ensemble import VotingClassifier \n",
    "import xgboost as xgb\n",
    "from sklearn.model_selection import StratifiedKFold, train_test_split"
   ]
  },
  {
   "cell_type": "code",
   "execution_count": 52,
   "metadata": {},
   "outputs": [],
   "source": [
    "from sklearn.pipeline import make_pipeline\n",
    "from sklearn.preprocessing import MinMaxScaler, StandardScaler"
   ]
  },
  {
   "cell_type": "code",
   "execution_count": 53,
   "metadata": {},
   "outputs": [],
   "source": [
    "from sklearn.metrics import roc_auc_score, classification_report, mean_squared_error, confusion_matrix, accuracy_score, precision_score, recall_score, mean_squared_error, ConfusionMatrixDisplay # Accuracy metrics "
   ]
  },
  {
   "cell_type": "code",
   "execution_count": 54,
   "metadata": {},
   "outputs": [],
   "source": [
    "import pandas as pd\n",
    "DATA_PATH = \"../data/union/End\"\n",
    "def load_data_prep(data_path=DATA_PATH):\n",
    "    csv_path = os.path.join(data_path, \"dataset_final.csv\")\n",
    "    return pd.read_csv(csv_path)\n",
    "def load_data_demo(data_path=DATA_PATH):\n",
    "    csv_path = os.path.join(data_path, \"dataset_demog.csv\")\n",
    "    return pd.read_csv(csv_path)"
   ]
  },
  {
   "cell_type": "code",
   "execution_count": 55,
   "metadata": {},
   "outputs": [],
   "source": [
    "# Cargar DataFrame\n",
    "df = load_data_prep()\n",
    "df_dem = load_data_demo()\n",
    "df1 = df.merge(df_dem, on=\"cod\", how=\"left\") # unimos las tablas con indice en \"cod\" y df_dem es incluida a la tabla df\n"
   ]
  },
  {
   "cell_type": "code",
   "execution_count": 56,
   "metadata": {},
   "outputs": [],
   "source": [
    "# Especificar las variables predictoras y la variable objetivo\n",
    "predictors = ['ccbd_qa', 'age', 'ccbd_diameter']  # 'gender' se eliminará temporalmente para la codificación one-hot\n",
    "outcome = 'label'\n",
    " # obtenemos la mariz binaria"
   ]
  },
  {
   "cell_type": "code",
   "execution_count": 57,
   "metadata": {},
   "outputs": [
    {
     "name": "stdout",
     "output_type": "stream",
     "text": [
      "                ccbd_qa       age  ccbd_diameter  gender_F  gender_M\n",
      "ccbd_qa        1.000000 -0.115373       0.159116  0.110405 -0.110405\n",
      "age           -0.115373  1.000000      -0.237001  0.114119 -0.114119\n",
      "ccbd_diameter  0.159116 -0.237001       1.000000 -0.120694  0.120694\n",
      "gender_F       0.110405  0.114119      -0.120694  1.000000 -1.000000\n",
      "gender_M      -0.110405 -0.114119       0.120694 -1.000000  1.000000\n"
     ]
    }
   ],
   "source": [
    "# Codificación One-Hot para la variable 'gender'\n",
    "df1 = pd.get_dummies(df1, columns=['gender'])\n",
    "x_simple = df1[predictors + [\"gender_F\",\"gender_M\"]]\n",
    "my_r = x_simple.corr(method=\"spearman\")\n",
    "print(my_r)"
   ]
  },
  {
   "cell_type": "code",
   "execution_count": 58,
   "metadata": {},
   "outputs": [],
   "source": [
    "# Partición en train y test\n",
    "\n",
    "X_train, X_test, y_train, y_test = train_test_split(df1[predictors + ['gender_F', 'gender_M']], df[outcome], test_size=0.2, random_state=99)"
   ]
  },
  {
   "cell_type": "code",
   "execution_count": 59,
   "metadata": {},
   "outputs": [],
   "source": [
    "X_= X_train.reset_index()\n",
    "y_= y_train.reset_index()\n",
    "X_=X_.drop('index', axis=1)\n",
    "y_=y_.drop('index', axis=1)"
   ]
  },
  {
   "cell_type": "code",
   "execution_count": 60,
   "metadata": {},
   "outputs": [],
   "source": [
    "pipelines = {\n",
    "    'mnb':make_pipeline(MinMaxScaler(), MultinomialNB()),\n",
    "    'lr':make_pipeline(StandardScaler(), LogisticRegression(fit_intercept=True, penalty='l2', tol=1e-5, C=0.8, class_weight='balanced', solver='newton-cg', max_iter=5000, warm_start=True)),\n",
    "    'xgb':make_pipeline(StandardScaler(), xgb.XGBClassifier()),\n",
    "    'knn':make_pipeline(StandardScaler(), KNeighborsClassifier(algorithm = 'brute', n_jobs=-1)),\n",
    "    'svm':make_pipeline(StandardScaler(), LinearSVC(C=0.0001)),\n",
    "    'clf':make_pipeline(StandardScaler(), DecisionTreeClassifier(min_samples_split=10,max_depth=3)),\n",
    "    'bglr':make_pipeline(StandardScaler(), BaggingClassifier(LogisticRegression(fit_intercept=True, penalty='l2', tol=1e-5, C=0.8, class_weight='balanced', solver='newton-cg', max_iter=5000, warm_start=True),max_samples=0.5,max_features=1.0,n_estimators=10)),\n",
    "    'bg':make_pipeline(StandardScaler(), BaggingClassifier(DecisionTreeClassifier(min_samples_split=10,max_depth=3),max_samples=0.5,max_features=1.0,n_estimators=10)),\n",
    "    'adb':make_pipeline(StandardScaler(), AdaBoostClassifier(DecisionTreeClassifier(max_depth=2),n_estimators=100,learning_rate=0.5)),\n",
    "    'rf':make_pipeline(StandardScaler(), RandomForestClassifier(n_estimators = 100, n_jobs = -1, oob_score = True, bootstrap = True, random_state=42, max_depth=3)),\n",
    "    'evc':make_pipeline(MinMaxScaler(), VotingClassifier(estimators=[('mnb',MultinomialNB()),('lr', LogisticRegression(fit_intercept=True, penalty='l2', tol=1e-5, C=0.8, class_weight='balanced', solver='newton-cg', max_iter=5000, warm_start=True)),('rf',RandomForestClassifier(n_estimators=300,max_depth=3)),('svm',LinearSVC(C=0.0001))]))}\n"
   ]
  },
  {
   "cell_type": "code",
   "execution_count": 61,
   "metadata": {},
   "outputs": [
    {
     "name": "stdout",
     "output_type": "stream",
     "text": [
      "mnb ac-sc: 0.5 pr-sc: 0.5 rc-sc: 0.5\n",
      "mnb ac-sc: 0.667 pr-sc: 0.689 rc-sc: 0.667\n",
      "mnb ac-sc: 0.667 pr-sc: 0.673 rc-sc: 0.667\n",
      "mnb ac-sc: 0.533 pr-sc: 0.589 rc-sc: 0.533\n",
      "mnb ac-sc: 0.8 pr-sc: 0.807 rc-sc: 0.8\n",
      "----------------------------------------------------\n",
      "--------------PROMEDIOS--DE-- mnb -------------------------\n",
      "Accuracy 0.633 precision_score 0.652 recall_score 0.633\n",
      "----------------------------------------------------\n",
      "----------------------------------------------------\n",
      "lr ac-sc: 0.5 pr-sc: 0.5 rc-sc: 0.5\n",
      "lr ac-sc: 0.533 pr-sc: 0.53 rc-sc: 0.533\n",
      "lr ac-sc: 0.733 pr-sc: 0.733 rc-sc: 0.733\n",
      "lr ac-sc: 0.8 pr-sc: 0.807 rc-sc: 0.8\n",
      "lr ac-sc: 0.667 pr-sc: 0.673 rc-sc: 0.667\n",
      "----------------------------------------------------\n",
      "--------------PROMEDIOS--DE-- lr -------------------------\n",
      "Accuracy 0.647 precision_score 0.649 recall_score 0.647\n",
      "----------------------------------------------------\n",
      "----------------------------------------------------\n"
     ]
    },
    {
     "name": "stdout",
     "output_type": "stream",
     "text": [
      "xgb ac-sc: 0.75 pr-sc: 0.767 rc-sc: 0.75\n",
      "xgb ac-sc: 0.533 pr-sc: 0.553 rc-sc: 0.533\n",
      "xgb ac-sc: 0.733 pr-sc: 0.756 rc-sc: 0.733\n",
      "xgb ac-sc: 0.667 pr-sc: 0.707 rc-sc: 0.667\n",
      "xgb ac-sc: 0.8 pr-sc: 0.804 rc-sc: 0.8\n",
      "----------------------------------------------------\n",
      "--------------PROMEDIOS--DE-- xgb -------------------------\n",
      "Accuracy 0.697 precision_score 0.717 recall_score 0.697\n",
      "----------------------------------------------------\n",
      "----------------------------------------------------\n",
      "knn ac-sc: 0.625 pr-sc: 0.625 rc-sc: 0.625\n",
      "knn ac-sc: 0.6 pr-sc: 0.615 rc-sc: 0.6\n",
      "knn ac-sc: 0.4 pr-sc: 0.404 rc-sc: 0.4\n",
      "knn ac-sc: 0.6 pr-sc: 0.655 rc-sc: 0.6\n",
      "knn ac-sc: 0.533 pr-sc: 0.521 rc-sc: 0.533\n",
      "----------------------------------------------------\n",
      "--------------PROMEDIOS--DE-- knn -------------------------\n",
      "Accuracy 0.552 precision_score 0.564 recall_score 0.552\n",
      "----------------------------------------------------\n",
      "----------------------------------------------------\n",
      "svm ac-sc: 0.5 pr-sc: 0.5 rc-sc: 0.5\n",
      "svm ac-sc: 0.733 pr-sc: 0.756 rc-sc: 0.733\n",
      "svm ac-sc: 0.6 pr-sc: 0.655 rc-sc: 0.6\n",
      "svm ac-sc: 0.467 pr-sc: 0.482 rc-sc: 0.467\n",
      "svm ac-sc: 0.533 pr-sc: 0.553 rc-sc: 0.533\n",
      "----------------------------------------------------\n",
      "--------------PROMEDIOS--DE-- svm -------------------------\n",
      "Accuracy 0.567 precision_score 0.589 recall_score 0.567\n",
      "----------------------------------------------------\n",
      "----------------------------------------------------\n",
      "clf ac-sc: 0.562 pr-sc: 0.563 rc-sc: 0.562\n",
      "clf ac-sc: 0.4 pr-sc: 0.372 rc-sc: 0.4\n",
      "clf ac-sc: 0.667 pr-sc: 0.673 rc-sc: 0.667\n",
      "clf ac-sc: 0.6 pr-sc: 0.615 rc-sc: 0.6\n",
      "clf ac-sc: 0.733 pr-sc: 0.733 rc-sc: 0.733\n",
      "----------------------------------------------------\n",
      "--------------PROMEDIOS--DE-- clf -------------------------\n",
      "Accuracy 0.592 precision_score 0.591 recall_score 0.592\n",
      "----------------------------------------------------\n",
      "----------------------------------------------------\n",
      "bglr ac-sc: 0.5 pr-sc: 0.5 rc-sc: 0.5\n",
      "bglr ac-sc: 0.8 pr-sc: 0.86 rc-sc: 0.8\n",
      "bglr ac-sc: 0.733 pr-sc: 0.756 rc-sc: 0.733\n",
      "bglr ac-sc: 0.733 pr-sc: 0.733 rc-sc: 0.733\n",
      "bglr ac-sc: 0.733 pr-sc: 0.733 rc-sc: 0.733\n",
      "----------------------------------------------------\n",
      "--------------PROMEDIOS--DE-- bglr -------------------------\n",
      "Accuracy 0.7 precision_score 0.716 recall_score 0.7\n",
      "----------------------------------------------------\n",
      "----------------------------------------------------\n",
      "bg ac-sc: 0.75 pr-sc: 0.75 rc-sc: 0.75\n",
      "bg ac-sc: 0.467 pr-sc: 0.479 rc-sc: 0.467\n",
      "bg ac-sc: 0.667 pr-sc: 0.667 rc-sc: 0.667\n",
      "bg ac-sc: 0.667 pr-sc: 0.707 rc-sc: 0.667\n",
      "bg ac-sc: 0.467 pr-sc: 0.474 rc-sc: 0.467\n",
      "----------------------------------------------------\n",
      "--------------PROMEDIOS--DE-- bg -------------------------\n",
      "Accuracy 0.603 precision_score 0.615 recall_score 0.603\n",
      "----------------------------------------------------\n",
      "----------------------------------------------------\n",
      "adb ac-sc: 0.438 pr-sc: 0.397 rc-sc: 0.438\n",
      "adb ac-sc: 0.4 pr-sc: 0.4 rc-sc: 0.4\n",
      "adb ac-sc: 0.6 pr-sc: 0.6 rc-sc: 0.6\n",
      "adb ac-sc: 0.533 pr-sc: 0.53 rc-sc: 0.533\n",
      "adb ac-sc: 0.533 pr-sc: 0.538 rc-sc: 0.533\n",
      "----------------------------------------------------\n",
      "--------------PROMEDIOS--DE-- adb -------------------------\n",
      "Accuracy 0.501 precision_score 0.493 recall_score 0.501\n",
      "----------------------------------------------------\n",
      "----------------------------------------------------\n",
      "rf ac-sc: 0.688 pr-sc: 0.69 rc-sc: 0.688\n",
      "rf ac-sc: 0.667 pr-sc: 0.707 rc-sc: 0.667\n",
      "rf ac-sc: 0.6 pr-sc: 0.6 rc-sc: 0.6\n",
      "rf ac-sc: 0.867 pr-sc: 0.867 rc-sc: 0.867\n",
      "rf ac-sc: 0.533 pr-sc: 0.538 rc-sc: 0.533\n",
      "----------------------------------------------------\n",
      "--------------PROMEDIOS--DE-- rf -------------------------\n",
      "Accuracy 0.671 precision_score 0.68 recall_score 0.671\n",
      "----------------------------------------------------\n",
      "----------------------------------------------------\n",
      "evc ac-sc: 0.562 pr-sc: 0.573 rc-sc: 0.562\n",
      "evc ac-sc: 0.733 pr-sc: 0.747 rc-sc: 0.733\n",
      "evc ac-sc: 0.6 pr-sc: 0.622 rc-sc: 0.6\n",
      "evc ac-sc: 0.667 pr-sc: 0.707 rc-sc: 0.667\n",
      "evc ac-sc: 0.6 pr-sc: 0.6 rc-sc: 0.6\n",
      "----------------------------------------------------\n",
      "--------------PROMEDIOS--DE-- evc -------------------------\n",
      "Accuracy 0.633 precision_score 0.65 recall_score 0.633\n",
      "----------------------------------------------------\n",
      "----------------------------------------------------\n"
     ]
    }
   ],
   "source": [
    "skf = StratifiedKFold(n_splits=5, shuffle=True) # 5 folds es un número típico si tenemos suficientes datos. Pedimos shuffle=True para que sea al azar la separación en subgrupos\n",
    "skf.get_n_splits(X_, y_) # arma los folds a partir de los datos\n",
    "\n",
    "# acc_values = [] # aca es donde van a ir a parar los accuracys de cada fold\n",
    "# pr_sc_values = [] # aca es donde van a ir a parar los accuracys de cada fold\n",
    "# rc_sc_values = [] # aca es donde van a ir a parar los accuracys de cada fold\n",
    "# scores = np.array([])     # aca es donde van a ir a parar los scores computados para todos los casos\n",
    "# indices = np.array([])    # aca es donde van a ir a parar los indices correspondientes a las entradas de scores\n",
    "fit_models = {}\n",
    "\n",
    "for algo, pipeline in pipelines.items():\n",
    "      acc_values = []\n",
    "      pr_sc_values = [] \n",
    "      rc_sc_values = []\n",
    "      for train_index, test_index in skf.split(X_, y_): # va generando los indices que corresponden a train y test en cada fold\n",
    "            X_train_, X_test_ = X_.iloc[train_index], X_.iloc[test_index] # arma que es dato de entrenamiento y qué es dato de evaluación\n",
    "            y_train_, y_test_ = y_.iloc[train_index], y_.iloc[test_index]     # idem con los targets\n",
    "            \n",
    "            #scaler = MinMaxScaler() # primero creo un objeto MinMaxScaler. Por defecto, esto normaliza los datos al intervalo [0,1]\n",
    "            #scaler.fit(X_train_) # encuentro los parametros para el escaleo\n",
    "            #X_train_ = scaler.transform(X_train_) # aplico la transformacion\n",
    "\n",
    "            #scaler = MinMaxScaler() # primero creo un objeto MinMaxScaler. Por defecto, esto normaliza los datos al intervalo [0,1]\n",
    "            #scaler.fit(X_test_) # encuentro los parametros para el escaleo\n",
    "            #X_test_ = scaler.transform(X_test_) # aplico la transformacion\n",
    "            \n",
    "            model = pipeline.fit(X_train_, np.ravel(y_train_))\n",
    "            probas_test = model.predict(X_test_)  # probabilidades con datos de evaluación\n",
    "            \n",
    "            acc_test = accuracy_score(y_test_, probas_test)\n",
    "            pr_sc = precision_score(y_test_.values, probas_test, average=\"weighted\", pos_label=1)\n",
    "            rc_sc = recall_score(y_test_.values, probas_test, average=\"weighted\", pos_label=1)\n",
    "            \n",
    "            acc_values.append(acc_test)\n",
    "            pr_sc_values.append(pr_sc)\n",
    "            rc_sc_values.append(rc_sc)\n",
    "            \n",
    "            print(algo,'ac-sc: {}'.format(round(accuracy_score(y_test_, probas_test),3)),\n",
    "                  'pr-sc: {}'.format(round(precision_score(y_test_.values, probas_test, average=\"weighted\", pos_label=\"arriba\"),3)),\n",
    "                  'rc-sc: {}'.format(round(recall_score(y_test_.values, probas_test, average=\"weighted\", pos_label=\"arriba\"),3)))\n",
    "      fit_models[algo] = model\n",
    "            \n",
    "      print('----------------------------------------------------')\n",
    "      print('--------------PROMEDIOS--DE--',algo,'-------------------------')\n",
    "      print('Accuracy {}'.format(round(np.mean(acc_values),3)), \n",
    "      'precision_score {}'.format(round(np.mean(pr_sc_values),3)),\n",
    "      'recall_score {}'.format(round(np.mean(rc_sc_values),3)))\n",
    "      print('----------------------------------------------------')\n",
    "      print('----------------------------------------------------')\n",
    "      # fpr_test, tpr_test, thresholds_test = roc_curve(y_test, probas_test[:,1]) # para plotear curva ROC con datos de entrenamiento\n",
    "      # auc_test = roc_auc_score(y_test, probas_test[:,1]) #  AUC con datos de evaluación\n",
    "\n",
    "      # auc_values.append(auc_test)\n",
    "      # scores = np.concatenate((scores,probas_test[:,1]),axis=0)\n",
    "      # indices = np.concatenate((indices,test_index),axis=0)\n",
    "      fit_models[algo] = model"
   ]
  },
  {
   "cell_type": "code",
   "execution_count": 62,
   "metadata": {},
   "outputs": [],
   "source": [
    "std_scale = StandardScaler() # Creamos el estandarizador para usarlo posteriormente\n",
    "\n",
    "# Ajustamos el estandarizador\n",
    "std_scale.fit(X_test)\n",
    "std_scale.fit(X_train)\n",
    "\n",
    "# Aplicamos el estandarizador y obtenemos la matriz de features escaleados\n",
    "X_test_scaled = std_scale.transform(X_test)\n",
    "X_scaled = std_scale.transform(X_train)"
   ]
  },
  {
   "cell_type": "code",
   "execution_count": 63,
   "metadata": {},
   "outputs": [],
   "source": [
    "y_predicted = fit_models['bglr'].predict_proba(X_test_scaled)"
   ]
  },
  {
   "cell_type": "code",
   "execution_count": 64,
   "metadata": {},
   "outputs": [
    {
     "name": "stdout",
     "output_type": "stream",
     "text": [
      "train shape: (76, 5)\n",
      "score on test: 0.4\n",
      "score on train: 0.618421052631579\n"
     ]
    }
   ],
   "source": [
    "print(\"train shape: \" + str(X_train.shape))\n",
    "print(\"score on test: \" + str(fit_models['bglr'].score(X_test_scaled, y_test)))\n",
    "print(\"score on train: \"+ str(fit_models['bglr'].score(X_scaled, y_train)))"
   ]
  },
  {
   "cell_type": "code",
   "execution_count": 65,
   "metadata": {},
   "outputs": [
    {
     "data": {
      "image/png": "[encoded data removed]",
      "text/plain": [
       "<Figure size 640x480 with 2 Axes>"
      ]
     },
     "metadata": {},
     "output_type": "display_data"
    }
   ],
   "source": [
    "class_names = ['Estudio', 'Control']\n",
    "ConfusionMatrixDisplay.from_estimator(fit_models['bglr'], X_test, y_test, display_labels=class_names, cmap=plt.cm.Blues)\n",
    "plt.show()"
   ]
  },
  {
   "cell_type": "code",
   "execution_count": 66,
   "metadata": {},
   "outputs": [
    {
     "name": "stdout",
     "output_type": "stream",
     "text": [
      "              precision    recall  f1-score   support\n",
      "\n",
      "           0       0.44      0.50      0.47         8\n",
      "           1       0.64      0.58      0.61        12\n",
      "\n",
      "    accuracy                           0.55        20\n",
      "   macro avg       0.54      0.54      0.54        20\n",
      "weighted avg       0.56      0.55      0.55        20\n",
      "\n"
     ]
    }
   ],
   "source": [
    "print(classification_report(y_true=y_test,y_pred=fit_models['bglr'].predict(X_test)))"
   ]
  },
  {
   "cell_type": "code",
   "execution_count": 69,
   "metadata": {},
   "outputs": [],
   "source": [
    "score = fit_models['bglr'].score(X_test_scaled, y_test) # Calculamos el score\n"
   ]
  },
  {
   "cell_type": "code",
   "execution_count": null,
   "metadata": {},
   "outputs": [],
   "source": [
    "fit_models['bglr'].best_estimator_.named_steps['bglr']"
   ]
  },
  {
   "cell_type": "code",
   "execution_count": null,
   "metadata": {},
   "outputs": [],
   "source": [
    "beta_0 = fit_models['bglr'].intercept_ # El beta 0\n",
    "beta_1 = fit_models['bglr'].coef_[0][0] # El coeficiente beta_1\n",
    "beta_2 = fit_models['bglr'].coef_[0][1] # El coeficiente beta_2"
   ]
  }
 ],
 "metadata": {
  "kernelspec": {
   "display_name": "venv",
   "language": "python",
   "name": "python3"
  },
  "language_info": {
   "codemirror_mode": {
    "name": "ipython",
    "version": 3
   },
   "file_extension": ".py",
   "mimetype": "text/x-python",
   "name": "python",
   "nbconvert_exporter": "python",
   "pygments_lexer": "ipython3",
   "version": "3.8.10"
  },
  "orig_nbformat": 4
 },
 "nbformat": 4,
 "nbformat_minor": 2
}
