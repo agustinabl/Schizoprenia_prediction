{
 "cells": [
  {
   "cell_type": "code",
   "execution_count": null,
   "metadata": {},
   "outputs": [],
   "source": [
    "import sys\n",
    "assert sys.version_info >= (3, 5)\n",
    "import os\n",
    "import pandas as pd\n",
    "import seaborn as sns\n",
    "import numpy as np\n",
    "import matplotlib.pyplot as plt\n",
    "import warnings\n",
    "warnings.filterwarnings('ignore') # Para evitar los molestos avisos.\n",
    "%matplotlib inline"
   ]
  },
  {
   "cell_type": "markdown",
   "metadata": {},
   "source": [
    "La columna vertebral es: \n",
    "* (i) un conjunto de teoremas que permiten reducciones masivas en el espacio de búsqueda de listas de reglas, \n",
    "* (ii) una biblioteca de vectores de bits rápida personalizada que permite una exploración rápida del espacio de búsqueda, de modo que no necesita enumerar todas las listas de reglas, y \n",
    "* (iii) estructuras de datos especializadas que realizan un seguimiento de los cálculos intermedios y las simetrías. Este conjunto de ingredientes demostró ser un poderoso cóctel para manejar estos difíciles problemas computacionales.\n",
    "\n",
    "**Los modelos interpretables** a veces implican problemas computacionales difíciles, y segundo, que estos problemas computacionales pueden resolverse aprovechando una combinación de técnicas teóricas y a nivel de sistemas. Crear un tipo de modelo lógico; Sin embargo, hay muchos más. Formalmente, el primer desafío es crear algoritmos que resuelvan problemas de modelado lógico en un tiempo razonable, para conjuntos de datos prácticos.\n",
    "\n"
   ]
  },
  {
   "cell_type": "code",
   "execution_count": null,
   "metadata": {},
   "outputs": [],
   "source": []
  }
 ],
 "metadata": {
  "language_info": {
   "name": "python"
  },
  "orig_nbformat": 4
 },
 "nbformat": 4,
 "nbformat_minor": 2
}
