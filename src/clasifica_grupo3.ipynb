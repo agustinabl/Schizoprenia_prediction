{
 "cells": [
  {
   "cell_type": "code",
   "execution_count": 40,
   "metadata": {},
   "outputs": [],
   "source": [
    "import sys\n",
    "assert sys.version_info >= (3, 5)\n",
    "import os\n",
    "import pandas as pd\n",
    "import seaborn as sns\n",
    "import numpy as np\n",
    "import matplotlib.pyplot as plt\n",
    "import warnings\n",
    "warnings.filterwarnings('ignore') # Para evitar los molestos avisos.\n",
    "%matplotlib inline\n",
    "from sklearn.preprocessing import StandardScaler"
   ]
  },
  {
   "cell_type": "code",
   "execution_count": 41,
   "metadata": {},
   "outputs": [],
   "source": [
    "# Indicamos que los tipos de datos float se muestren con 2 decimales\n",
    "pd.options.display.float_format = '{:.2f}'.format"
   ]
  },
  {
   "cell_type": "code",
   "execution_count": 42,
   "metadata": {},
   "outputs": [],
   "source": [
    "# Estandarizador (transforma las variables en z-scores)\n",
    "from sklearn.preprocessing import StandardScaler\n",
    "from sklearn.ensemble import RandomForestClassifier\n",
    "from sklearn.metrics import classification_report, confusion_matrix\n",
    "from sklearn.model_selection import train_test_split\n",
    "from sklearn.model_selection import cross_val_score\n",
    "from sklearn.decomposition import PCA\n",
    "import matplotlib.pyplot as plt\n",
    "import seaborn as sns"
   ]
  },
  {
   "cell_type": "code",
   "execution_count": 43,
   "metadata": {},
   "outputs": [],
   "source": [
    "import utils as ut"
   ]
  },
  {
   "cell_type": "code",
   "execution_count": 44,
   "metadata": {},
   "outputs": [],
   "source": [
    "DATA_PATH = \"../data/union/End\"\n",
    "def load_data_prep(data_path=DATA_PATH):\n",
    "    csv_path = os.path.join(data_path, \"dataset_final.csv\")\n",
    "    return pd.read_csv(csv_path)"
   ]
  },
  {
   "cell_type": "markdown",
   "metadata": {},
   "source": [
    "### Recordemos que la seleccion de features tenemos 2 grupos:\n",
    "`efs.best_feature_names_, sbs.k_feature_names_`\n",
    "\n",
    "`(('ccbd_diameter',\n",
    "  'sl2l_mean_length',\n",
    "  'ecpl_mean_length',\n",
    "  'ccbd_number_of_tracts'),\n",
    " ('ccbd_diameter',\n",
    "  'sl2l_mean_length',\n",
    "  'ifol_number_of_tracts',\n",
    "  'ifol_diameter'))`\n",
    "  ccbd_diameter, sl2l_mean_length, ecpl_mean_length, ccbd_number_of_tracts, ifol_number_of_tracts, ifol_diameter "
   ]
  },
  {
   "cell_type": "code",
   "execution_count": 45,
   "metadata": {},
   "outputs": [],
   "source": [
    "df = load_data_prep()"
   ]
  },
  {
   "cell_type": "code",
   "execution_count": 46,
   "metadata": {},
   "outputs": [
    {
     "data": {
      "text/html": [
       "<div>\n",
       "<style scoped>\n",
       "    .dataframe tbody tr th:only-of-type {\n",
       "        vertical-align: middle;\n",
       "    }\n",
       "\n",
       "    .dataframe tbody tr th {\n",
       "        vertical-align: top;\n",
       "    }\n",
       "\n",
       "    .dataframe thead th {\n",
       "        text-align: right;\n",
       "    }\n",
       "</style>\n",
       "<table border=\"1\" class=\"dataframe\">\n",
       "  <thead>\n",
       "    <tr style=\"text-align: right;\">\n",
       "      <th></th>\n",
       "      <th>cod</th>\n",
       "      <th>afsl_ad</th>\n",
       "      <th>afsl_area_of_end_region_1</th>\n",
       "      <th>afsl_area_of_end_region_2</th>\n",
       "      <th>afsl_branch_volume</th>\n",
       "      <th>afsl_curl</th>\n",
       "      <th>afsl_diameter</th>\n",
       "      <th>afsl_dti_fa</th>\n",
       "      <th>afsl_elongation</th>\n",
       "      <th>afsl_irregularity</th>\n",
       "      <th>...</th>\n",
       "      <th>ufsr_radius_of_end_region_2</th>\n",
       "      <th>ufsr_rd</th>\n",
       "      <th>ufsr_rdi</th>\n",
       "      <th>ufsr_span</th>\n",
       "      <th>ufsr_total_area_of_end_regions</th>\n",
       "      <th>ufsr_total_radius_of_end_regions</th>\n",
       "      <th>ufsr_total_surface_area</th>\n",
       "      <th>ufsr_trunk_volume</th>\n",
       "      <th>ufsr_volume</th>\n",
       "      <th>label</th>\n",
       "    </tr>\n",
       "  </thead>\n",
       "  <tbody>\n",
       "    <tr>\n",
       "      <th>0</th>\n",
       "      <td>sub-10171</td>\n",
       "      <td>1.24</td>\n",
       "      <td>1471.85</td>\n",
       "      <td>1248.58</td>\n",
       "      <td>11931.50</td>\n",
       "      <td>4.49</td>\n",
       "      <td>16.47</td>\n",
       "      <td>0.46</td>\n",
       "      <td>7.19</td>\n",
       "      <td>7.44</td>\n",
       "      <td>...</td>\n",
       "      <td>9.62</td>\n",
       "      <td>0.77</td>\n",
       "      <td>0.33</td>\n",
       "      <td>8.97</td>\n",
       "      <td>2693.99</td>\n",
       "      <td>18.45</td>\n",
       "      <td>21228.70</td>\n",
       "      <td>9877.95</td>\n",
       "      <td>14154.40</td>\n",
       "      <td>1</td>\n",
       "    </tr>\n",
       "    <tr>\n",
       "      <th>1</th>\n",
       "      <td>sub-10189</td>\n",
       "      <td>1.15</td>\n",
       "      <td>2234.71</td>\n",
       "      <td>1009.63</td>\n",
       "      <td>8798.79</td>\n",
       "      <td>3.73</td>\n",
       "      <td>15.07</td>\n",
       "      <td>0.49</td>\n",
       "      <td>6.87</td>\n",
       "      <td>6.82</td>\n",
       "      <td>...</td>\n",
       "      <td>10.13</td>\n",
       "      <td>0.72</td>\n",
       "      <td>0.15</td>\n",
       "      <td>15.11</td>\n",
       "      <td>2108.38</td>\n",
       "      <td>19.15</td>\n",
       "      <td>19638.40</td>\n",
       "      <td>7918.42</td>\n",
       "      <td>11760.10</td>\n",
       "      <td>1</td>\n",
       "    </tr>\n",
       "    <tr>\n",
       "      <th>2</th>\n",
       "      <td>sub-10206</td>\n",
       "      <td>1.23</td>\n",
       "      <td>478.87</td>\n",
       "      <td>827.49</td>\n",
       "      <td>1825.37</td>\n",
       "      <td>3.77</td>\n",
       "      <td>11.91</td>\n",
       "      <td>0.47</td>\n",
       "      <td>6.58</td>\n",
       "      <td>5.30</td>\n",
       "      <td>...</td>\n",
       "      <td>8.22</td>\n",
       "      <td>0.83</td>\n",
       "      <td>0.18</td>\n",
       "      <td>10.67</td>\n",
       "      <td>933.25</td>\n",
       "      <td>17.18</td>\n",
       "      <td>12013.70</td>\n",
       "      <td>2729.24</td>\n",
       "      <td>6178.25</td>\n",
       "      <td>1</td>\n",
       "    </tr>\n",
       "    <tr>\n",
       "      <th>3</th>\n",
       "      <td>sub-10217</td>\n",
       "      <td>1.19</td>\n",
       "      <td>2978.96</td>\n",
       "      <td>1547.25</td>\n",
       "      <td>1441.49</td>\n",
       "      <td>3.35</td>\n",
       "      <td>17.87</td>\n",
       "      <td>0.46</td>\n",
       "      <td>5.92</td>\n",
       "      <td>7.33</td>\n",
       "      <td>...</td>\n",
       "      <td>8.48</td>\n",
       "      <td>0.74</td>\n",
       "      <td>0.34</td>\n",
       "      <td>9.68</td>\n",
       "      <td>2180.85</td>\n",
       "      <td>17.17</td>\n",
       "      <td>16714.30</td>\n",
       "      <td>10092.40</td>\n",
       "      <td>10799.40</td>\n",
       "      <td>1</td>\n",
       "    </tr>\n",
       "    <tr>\n",
       "      <th>4</th>\n",
       "      <td>sub-10225</td>\n",
       "      <td>1.24</td>\n",
       "      <td>1581.53</td>\n",
       "      <td>683.53</td>\n",
       "      <td>7555.11</td>\n",
       "      <td>3.77</td>\n",
       "      <td>15.77</td>\n",
       "      <td>0.46</td>\n",
       "      <td>6.38</td>\n",
       "      <td>6.95</td>\n",
       "      <td>...</td>\n",
       "      <td>12.60</td>\n",
       "      <td>0.83</td>\n",
       "      <td>0.44</td>\n",
       "      <td>10.19</td>\n",
       "      <td>691.37</td>\n",
       "      <td>24.44</td>\n",
       "      <td>13561.00</td>\n",
       "      <td>1653.02</td>\n",
       "      <td>4666.25</td>\n",
       "      <td>1</td>\n",
       "    </tr>\n",
       "  </tbody>\n",
       "</table>\n",
       "<p>5 rows × 437 columns</p>\n",
       "</div>"
      ],
      "text/plain": [
       "         cod  afsl_ad  afsl_area_of_end_region_1  afsl_area_of_end_region_2   \n",
       "0  sub-10171     1.24                    1471.85                    1248.58  \\\n",
       "1  sub-10189     1.15                    2234.71                    1009.63   \n",
       "2  sub-10206     1.23                     478.87                     827.49   \n",
       "3  sub-10217     1.19                    2978.96                    1547.25   \n",
       "4  sub-10225     1.24                    1581.53                     683.53   \n",
       "\n",
       "   afsl_branch_volume  afsl_curl  afsl_diameter  afsl_dti_fa  afsl_elongation   \n",
       "0            11931.50       4.49          16.47         0.46             7.19  \\\n",
       "1             8798.79       3.73          15.07         0.49             6.87   \n",
       "2             1825.37       3.77          11.91         0.47             6.58   \n",
       "3             1441.49       3.35          17.87         0.46             5.92   \n",
       "4             7555.11       3.77          15.77         0.46             6.38   \n",
       "\n",
       "   afsl_irregularity  ...  ufsr_radius_of_end_region_2  ufsr_rd  ufsr_rdi   \n",
       "0               7.44  ...                         9.62     0.77      0.33  \\\n",
       "1               6.82  ...                        10.13     0.72      0.15   \n",
       "2               5.30  ...                         8.22     0.83      0.18   \n",
       "3               7.33  ...                         8.48     0.74      0.34   \n",
       "4               6.95  ...                        12.60     0.83      0.44   \n",
       "\n",
       "   ufsr_span  ufsr_total_area_of_end_regions   \n",
       "0       8.97                         2693.99  \\\n",
       "1      15.11                         2108.38   \n",
       "2      10.67                          933.25   \n",
       "3       9.68                         2180.85   \n",
       "4      10.19                          691.37   \n",
       "\n",
       "   ufsr_total_radius_of_end_regions  ufsr_total_surface_area   \n",
       "0                             18.45                 21228.70  \\\n",
       "1                             19.15                 19638.40   \n",
       "2                             17.18                 12013.70   \n",
       "3                             17.17                 16714.30   \n",
       "4                             24.44                 13561.00   \n",
       "\n",
       "   ufsr_trunk_volume  ufsr_volume  label  \n",
       "0            9877.95     14154.40      1  \n",
       "1            7918.42     11760.10      1  \n",
       "2            2729.24      6178.25      1  \n",
       "3           10092.40     10799.40      1  \n",
       "4            1653.02      4666.25      1  \n",
       "\n",
       "[5 rows x 437 columns]"
      ]
     },
     "execution_count": 46,
     "metadata": {},
     "output_type": "execute_result"
    }
   ],
   "source": [
    "df.head()"
   ]
  },
  {
   "cell_type": "code",
   "execution_count": 47,
   "metadata": {},
   "outputs": [],
   "source": [
    "df1 = df[['ccbd_diameter','sl2l_mean_length','ecpl_mean_length','ccbd_number_of_tracts','label']]"
   ]
  },
  {
   "cell_type": "code",
   "execution_count": 48,
   "metadata": {},
   "outputs": [
    {
     "data": {
      "text/plain": [
       "(75, 5)"
      ]
     },
     "execution_count": 48,
     "metadata": {},
     "output_type": "execute_result"
    }
   ],
   "source": [
    "df1.shape"
   ]
  },
  {
   "cell_type": "markdown",
   "metadata": {},
   "source": [
    "Veamos si balanceando nuestras clases podemos mejorar la performance de nuestro modelo.\n",
    "\n",
    "## Subsampleo de clase mayoritaria"
   ]
  },
  {
   "cell_type": "code",
   "execution_count": 49,
   "metadata": {},
   "outputs": [],
   "source": [
    "df3 = df1\n",
    "df3.label.value_counts()\n",
    "df3.label.value_counts()/df1.label.count()*100\n",
    "# Partición en train y test\n",
    "y = df1.loc[:, df1.columns == 'label']\n",
    "X = df1.loc[:, df1.columns != 'label']\n",
    "X_train, X_test, y_train, y_test = train_test_split(X, y, test_size=0.2, random_state=99)"
   ]
  },
  {
   "cell_type": "code",
   "execution_count": 50,
   "metadata": {},
   "outputs": [
    {
     "name": "stdout",
     "output_type": "stream",
     "text": [
      "39\n",
      "21\n"
     ]
    },
    {
     "data": {
      "text/plain": [
       "((42, 4), (42, 1))"
      ]
     },
     "execution_count": 50,
     "metadata": {},
     "output_type": "execute_result"
    }
   ],
   "source": [
    "train = X_train\n",
    "train['label'] = y_train.label.to_list()\n",
    "\n",
    "control = train[train.label == 1]\n",
    "print(len(control))\n",
    "estudio = train[train.label == 0]\n",
    "print(len(estudio))\n",
    "control_sub = control.sample(n=len(estudio), random_state=99)\n",
    "len(control_sub)\n",
    "train_sub = pd.concat([estudio, control_sub])\n",
    "len(train_sub)\n",
    "y_train = train_sub.loc[:, train_sub.columns == 'label']\n",
    "X_train = train_sub.loc[:, train_sub.columns != 'label']\n",
    "X_train.shape, y_train.shape"
   ]
  },
  {
   "cell_type": "code",
   "execution_count": 51,
   "metadata": {},
   "outputs": [],
   "source": [
    "std_scale = StandardScaler() # Creamos el estandarizador para usarlo posteriormente"
   ]
  },
  {
   "cell_type": "code",
   "execution_count": 52,
   "metadata": {},
   "outputs": [],
   "source": [
    "# Ajustamos el estandarizador\n",
    "std_scale.fit(X_test)\n",
    "std_scale.fit(X_train)\n",
    "\n",
    "# Aplicamos el estandarizador y obtenemos la matriz de features escaleados\n",
    "X_test_scaled = std_scale.transform(X_test)\n",
    "X_scaled = std_scale.transform(X_train)"
   ]
  },
  {
   "cell_type": "code",
   "execution_count": 53,
   "metadata": {},
   "outputs": [],
   "source": [
    "from sklearn.linear_model import LogisticRegression"
   ]
  },
  {
   "cell_type": "code",
   "execution_count": 54,
   "metadata": {},
   "outputs": [
    {
     "data": {
      "text/html": [
       "<style>#sk-container-id-2 {color: black;}#sk-container-id-2 pre{padding: 0;}#sk-container-id-2 div.sk-toggleable {background-color: white;}#sk-container-id-2 label.sk-toggleable__label {cursor: pointer;display: block;width: 100%;margin-bottom: 0;padding: 0.3em;box-sizing: border-box;text-align: center;}#sk-container-id-2 label.sk-toggleable__label-arrow:before {content: \"▸\";float: left;margin-right: 0.25em;color: #696969;}#sk-container-id-2 label.sk-toggleable__label-arrow:hover:before {color: black;}#sk-container-id-2 div.sk-estimator:hover label.sk-toggleable__label-arrow:before {color: black;}#sk-container-id-2 div.sk-toggleable__content {max-height: 0;max-width: 0;overflow: hidden;text-align: left;background-color: #f0f8ff;}#sk-container-id-2 div.sk-toggleable__content pre {margin: 0.2em;color: black;border-radius: 0.25em;background-color: #f0f8ff;}#sk-container-id-2 input.sk-toggleable__control:checked~div.sk-toggleable__content {max-height: 200px;max-width: 100%;overflow: auto;}#sk-container-id-2 input.sk-toggleable__control:checked~label.sk-toggleable__label-arrow:before {content: \"▾\";}#sk-container-id-2 div.sk-estimator input.sk-toggleable__control:checked~label.sk-toggleable__label {background-color: #d4ebff;}#sk-container-id-2 div.sk-label input.sk-toggleable__control:checked~label.sk-toggleable__label {background-color: #d4ebff;}#sk-container-id-2 input.sk-hidden--visually {border: 0;clip: rect(1px 1px 1px 1px);clip: rect(1px, 1px, 1px, 1px);height: 1px;margin: -1px;overflow: hidden;padding: 0;position: absolute;width: 1px;}#sk-container-id-2 div.sk-estimator {font-family: monospace;background-color: #f0f8ff;border: 1px dotted black;border-radius: 0.25em;box-sizing: border-box;margin-bottom: 0.5em;}#sk-container-id-2 div.sk-estimator:hover {background-color: #d4ebff;}#sk-container-id-2 div.sk-parallel-item::after {content: \"\";width: 100%;border-bottom: 1px solid gray;flex-grow: 1;}#sk-container-id-2 div.sk-label:hover label.sk-toggleable__label {background-color: #d4ebff;}#sk-container-id-2 div.sk-serial::before {content: \"\";position: absolute;border-left: 1px solid gray;box-sizing: border-box;top: 0;bottom: 0;left: 50%;z-index: 0;}#sk-container-id-2 div.sk-serial {display: flex;flex-direction: column;align-items: center;background-color: white;padding-right: 0.2em;padding-left: 0.2em;position: relative;}#sk-container-id-2 div.sk-item {position: relative;z-index: 1;}#sk-container-id-2 div.sk-parallel {display: flex;align-items: stretch;justify-content: center;background-color: white;position: relative;}#sk-container-id-2 div.sk-item::before, #sk-container-id-2 div.sk-parallel-item::before {content: \"\";position: absolute;border-left: 1px solid gray;box-sizing: border-box;top: 0;bottom: 0;left: 50%;z-index: -1;}#sk-container-id-2 div.sk-parallel-item {display: flex;flex-direction: column;z-index: 1;position: relative;background-color: white;}#sk-container-id-2 div.sk-parallel-item:first-child::after {align-self: flex-end;width: 50%;}#sk-container-id-2 div.sk-parallel-item:last-child::after {align-self: flex-start;width: 50%;}#sk-container-id-2 div.sk-parallel-item:only-child::after {width: 0;}#sk-container-id-2 div.sk-dashed-wrapped {border: 1px dashed gray;margin: 0 0.4em 0.5em 0.4em;box-sizing: border-box;padding-bottom: 0.4em;background-color: white;}#sk-container-id-2 div.sk-label label {font-family: monospace;font-weight: bold;display: inline-block;line-height: 1.2em;}#sk-container-id-2 div.sk-label-container {text-align: center;}#sk-container-id-2 div.sk-container {/* jupyter's `normalize.less` sets `[hidden] { display: none; }` but bootstrap.min.css set `[hidden] { display: none !important; }` so we also need the `!important` here to be able to override the default hidden behavior on the sphinx rendered scikit-learn.org. See: https://github.com/scikit-learn/scikit-learn/issues/21755 */display: inline-block !important;position: relative;}#sk-container-id-2 div.sk-text-repr-fallback {display: none;}</style><div id=\"sk-container-id-2\" class=\"sk-top-container\"><div class=\"sk-text-repr-fallback\"><pre>LogisticRegression()</pre><b>In a Jupyter environment, please rerun this cell to show the HTML representation or trust the notebook. <br />On GitHub, the HTML representation is unable to render, please try loading this page with nbviewer.org.</b></div><div class=\"sk-container\" hidden><div class=\"sk-item\"><div class=\"sk-estimator sk-toggleable\"><input class=\"sk-toggleable__control sk-hidden--visually\" id=\"sk-estimator-id-2\" type=\"checkbox\" checked><label for=\"sk-estimator-id-2\" class=\"sk-toggleable__label sk-toggleable__label-arrow\">LogisticRegression</label><div class=\"sk-toggleable__content\"><pre>LogisticRegression()</pre></div></div></div></div></div>"
      ],
      "text/plain": [
       "LogisticRegression()"
      ]
     },
     "execution_count": 54,
     "metadata": {},
     "output_type": "execute_result"
    }
   ],
   "source": [
    "logreg = LogisticRegression()\n",
    "logreg.fit(X_scaled, y_train)"
   ]
  },
  {
   "cell_type": "code",
   "execution_count": 55,
   "metadata": {},
   "outputs": [
    {
     "name": "stdout",
     "output_type": "stream",
     "text": [
      "Accuracy: 0.40\n"
     ]
    }
   ],
   "source": [
    "y_train_pred = logreg.predict(X_scaled)\n",
    "y_pred = logreg.predict(X_test_scaled)\n",
    "print('Accuracy: {:.2f}'.format(logreg.score(X_test_scaled, y_test)))"
   ]
  },
  {
   "cell_type": "code",
   "execution_count": 56,
   "metadata": {},
   "outputs": [],
   "source": [
    "import sklearn.metrics as metrics"
   ]
  },
  {
   "cell_type": "code",
   "execution_count": 57,
   "metadata": {},
   "outputs": [
    {
     "data": {
      "text/plain": [
       "1"
      ]
     },
     "execution_count": 57,
     "metadata": {},
     "output_type": "execute_result"
    }
   ],
   "source": [
    "y_train_pred.argmax()"
   ]
  },
  {
   "cell_type": "code",
   "execution_count": 58,
   "metadata": {},
   "outputs": [
    {
     "name": "stdout",
     "output_type": "stream",
     "text": [
      "Accuracy en el train set: 0.48\n",
      "Accuracy en el test set: 0.40\n"
     ]
    }
   ],
   "source": [
    "train_accuracy =  metrics.accuracy_score(y_train_pred,y_train) \n",
    "test_accuracy =  metrics.accuracy_score(y_pred, y_test)\n",
    "print(f'Accuracy en el train set: {train_accuracy:.2f}')\n",
    "print(f'Accuracy en el test set: {test_accuracy:.2f}')\n"
   ]
  },
  {
   "cell_type": "code",
   "execution_count": 59,
   "metadata": {},
   "outputs": [],
   "source": [
    "#!pip install -U --upgrade scikit-learn"
   ]
  },
  {
   "cell_type": "code",
   "execution_count": 60,
   "metadata": {},
   "outputs": [
    {
     "name": "stdout",
     "output_type": "stream",
     "text": [
      "[[2 2]\n",
      " [7 4]]\n"
     ]
    }
   ],
   "source": [
    "from sklearn.metrics import confusion_matrix, ConfusionMatrixDisplay\n",
    "confusion_matrix = confusion_matrix(y_test, y_pred)\n",
    "print(confusion_matrix)"
   ]
  },
  {
   "cell_type": "code",
   "execution_count": 61,
   "metadata": {},
   "outputs": [
    {
     "data": {
      "image/png": "[encoded data removed]",
      "text/plain": [
       "<Figure size 640x480 with 2 Axes>"
      ]
     },
     "metadata": {},
     "output_type": "display_data"
    }
   ],
   "source": [
    "class_names = ['Con Patolog', 'Sin Patolog']\n",
    "ConfusionMatrixDisplay.from_estimator(logreg, X_test_scaled, y_test, display_labels=class_names, cmap=plt.cm.Blues)\n",
    "plt.show()\n"
   ]
  },
  {
   "cell_type": "code",
   "execution_count": 62,
   "metadata": {},
   "outputs": [],
   "source": [
    "# !pip install -q -U lightgbm\n",
    "# !pip install -q -U catboost\n",
    "# !pip install scikit-plot"
   ]
  },
  {
   "cell_type": "code",
   "execution_count": 63,
   "metadata": {},
   "outputs": [],
   "source": [
    "from sklearn.pipeline import make_pipeline \n",
    "from sklearn.preprocessing import StandardScaler \n",
    "\n",
    "from sklearn.linear_model import LogisticRegression, RidgeClassifier\n",
    "from sklearn.ensemble import RandomForestClassifier, GradientBoostingClassifier\n",
    "from xgboost.sklearn import XGBClassifier\n",
    "from lightgbm import LGBMClassifier"
   ]
  },
  {
   "cell_type": "code",
   "execution_count": 64,
   "metadata": {},
   "outputs": [],
   "source": [
    "from sklearn.model_selection import RandomizedSearchCV"
   ]
  },
  {
   "cell_type": "code",
   "execution_count": 65,
   "metadata": {},
   "outputs": [],
   "source": [
    "from catboost import CatBoostClassifier\n",
    "import scipy.stats as st"
   ]
  },
  {
   "cell_type": "code",
   "execution_count": 66,
   "metadata": {},
   "outputs": [],
   "source": [
    "from sklearn.metrics import accuracy_score, precision_score, recall_score # Accuracy metrics "
   ]
  },
  {
   "cell_type": "code",
   "execution_count": 67,
   "metadata": {},
   "outputs": [],
   "source": [
    "EXPORT_PATH = '../data/union/End' # Hay que completar con el path donde se quiere guardar el modelo"
   ]
  },
  {
   "cell_type": "code",
   "execution_count": 68,
   "metadata": {},
   "outputs": [],
   "source": [
    "from sklearn.model_selection import KFold\n",
    "from sklearn.metrics import roc_curve\n",
    "from sklearn.metrics import roc_auc_score"
   ]
  },
  {
   "cell_type": "code",
   "execution_count": 69,
   "metadata": {},
   "outputs": [],
   "source": [
    "from sklearn.model_selection import StratifiedKFold\n",
    "from sklearn.compose import ColumnTransformer\n",
    "from sklearn.pipeline import Pipeline"
   ]
  },
  {
   "cell_type": "code",
   "execution_count": 70,
   "metadata": {},
   "outputs": [],
   "source": [
    "from sklearn.preprocessing import PolynomialFeatures\n",
    "from sklearn.metrics import roc_auc_score\n",
    "from scikitplot.metrics import plot_roc"
   ]
  },
  {
   "cell_type": "code",
   "execution_count": 71,
   "metadata": {},
   "outputs": [],
   "source": [
    "num_columns = ['ccbd_diameter','sl2l_mean_length','ecpl_mean_length','ccbd_number_of_tracts']"
   ]
  },
  {
   "cell_type": "code",
   "execution_count": 72,
   "metadata": {},
   "outputs": [],
   "source": [
    "# vamos a usar polynomial features sobre las variables numéricas\n",
    "poly = PolynomialFeatures()\n",
    "# Las categorías \"nuevas\" que aparezcan se imputan con el valor de unknown_value\n",
    "# o_encoder = OrdinalEncoder(handle_unknown=\"use_encoded_value\", unknown_value=99999999)"
   ]
  },
  {
   "cell_type": "code",
   "execution_count": 73,
   "metadata": {},
   "outputs": [],
   "source": [
    "pipeline = Pipeline([\n",
    "    (\"selector_num\", ColumnTransformer(\n",
    "        [\n",
    "            (\"poly\", poly, num_columns)\n",
    "        ], remainder=\"passthrough\")\n",
    "    ),\n",
    "    (\"classifier\", CatBoostClassifier())\n",
    "    ]\n",
    ")"
   ]
  },
  {
   "cell_type": "code",
   "execution_count": 74,
   "metadata": {},
   "outputs": [],
   "source": [
    "one_to_left = st.beta(10, 1) # Esta distribución nos dará valores entre 0 y 1 mayormente cercanos a 1"
   ]
  },
  {
   "cell_type": "code",
   "execution_count": 75,
   "metadata": {},
   "outputs": [],
   "source": [
    "# este diccionario de parámetros lo vamos a usar tanto para XGBoost como para LightGBM\n",
    "params = {  \n",
    "    \"classifier__n_estimators\": st.randint(20,150), # n. de árboles.\n",
    "    \"classifier__max_depth\": st.randint(3, 12),     # máxima profundiad del árbol\n",
    "    \"classifier__learning_rate\": st.uniform(0.05, 0.4), # learning rate (xgb’s “eta”)\n",
    "    \"classifier__colsample_bytree\": one_to_left, # ratio de la muestra de las columnas a la hora de construir el árbol\n",
    "    \"classifier__subsample\": one_to_left,     # ratio de la muestra de las observaciones\n",
    "    'classifier__reg_alpha': st.uniform(0.05,10),   # término de regularización L1\n",
    "    \"classifier__min_child_weight\": st.uniform(1,20), # Suma mínima del peso de la instancia (hessiano) requerida en los hijos\n",
    "}"
   ]
  },
  {
   "cell_type": "code",
   "execution_count": 76,
   "metadata": {},
   "outputs": [],
   "source": [
    "other_params = {\"selector_num__poly__degree\": [1, 2, 3]}"
   ]
  },
  {
   "cell_type": "code",
   "execution_count": 77,
   "metadata": {},
   "outputs": [],
   "source": [
    "search_space = [{\"classifier\": [XGBClassifier(n_jobs=3, eval_metric=\"logloss\", use_label_encoder=False)], \n",
    "                 **params,\n",
    "                 **other_params,\n",
    "                \"classifier__gamma\": st.uniform(0, 10), # reducción mínima de la pérdida requerida para hacer un split\n",
    "                },\n",
    "                {\"classifier\": [LGBMClassifier(n_jobs=3, verbose=-1)],\n",
    "                 **params,\n",
    "                **other_params},\n",
    "                {\"classifier\": [CatBoostClassifier(thread_count=3, verbose=False)],\n",
    "                 **other_params,\n",
    "                \"classifier__n_estimators\": st.randint(20,150), # n. de árboles.\n",
    "                \"classifier__max_depth\": st.randint(3, 12),     # máxima profundiad del árbol\n",
    "                \"classifier__learning_rate\": st.uniform(0.05, 0.4), # learning rate (xgb’s “eta”)\n",
    "                \"classifier__subsample\": one_to_left,     # ratio de la muestra de las observaciones\n",
    "                },\n",
    "               {\n",
    "                   \"classifier\": [LogisticRegression(max_iter=1000)],\n",
    "                   \"classifier__C\": [10**x for x in range(-5, 3)],\n",
    "               }]"
   ]
  },
  {
   "cell_type": "code",
   "execution_count": 78,
   "metadata": {},
   "outputs": [
    {
     "name": "stdout",
     "output_type": "stream",
     "text": [
      "Fitting 3 folds for each of 100 candidates, totalling 300 fits\n"
     ]
    }
   ],
   "source": [
    "model = RandomizedSearchCV(pipeline, search_space, n_iter=100, verbose=1, cv=3)\n",
    "model.fit(X_train, y_train)\n",
    "\n",
    "results = pd.DataFrame(model.cv_results_)"
   ]
  },
  {
   "cell_type": "code",
   "execution_count": 79,
   "metadata": {},
   "outputs": [
    {
     "data": {
      "text/plain": [
       "Index(['mean_fit_time', 'std_fit_time', 'mean_score_time', 'std_score_time',\n",
       "       'param_classifier', 'param_classifier__colsample_bytree',\n",
       "       'param_classifier__learning_rate', 'param_classifier__max_depth',\n",
       "       'param_classifier__min_child_weight', 'param_classifier__n_estimators',\n",
       "       'param_classifier__reg_alpha', 'param_classifier__subsample',\n",
       "       'param_selector_num__poly__degree', 'param_classifier__C',\n",
       "       'param_classifier__gamma', 'params', 'split0_test_score',\n",
       "       'split1_test_score', 'split2_test_score', 'mean_test_score',\n",
       "       'std_test_score', 'rank_test_score'],\n",
       "      dtype='object')"
      ]
     },
     "execution_count": 79,
     "metadata": {},
     "output_type": "execute_result"
    }
   ],
   "source": [
    "results.columns"
   ]
  },
  {
   "cell_type": "code",
   "execution_count": 80,
   "metadata": {},
   "outputs": [
    {
     "data": {
      "text/html": [
       "<div>\n",
       "<style scoped>\n",
       "    .dataframe tbody tr th:only-of-type {\n",
       "        vertical-align: middle;\n",
       "    }\n",
       "\n",
       "    .dataframe tbody tr th {\n",
       "        vertical-align: top;\n",
       "    }\n",
       "\n",
       "    .dataframe thead th {\n",
       "        text-align: right;\n",
       "    }\n",
       "</style>\n",
       "<table border=\"1\" class=\"dataframe\">\n",
       "  <thead>\n",
       "    <tr style=\"text-align: right;\">\n",
       "      <th></th>\n",
       "      <th>mean_fit_time</th>\n",
       "      <th>std_fit_time</th>\n",
       "      <th>mean_score_time</th>\n",
       "      <th>std_score_time</th>\n",
       "      <th>param_classifier</th>\n",
       "      <th>param_classifier__colsample_bytree</th>\n",
       "      <th>param_classifier__learning_rate</th>\n",
       "      <th>param_classifier__max_depth</th>\n",
       "      <th>param_classifier__min_child_weight</th>\n",
       "      <th>param_classifier__n_estimators</th>\n",
       "      <th>...</th>\n",
       "      <th>param_selector_num__poly__degree</th>\n",
       "      <th>param_classifier__C</th>\n",
       "      <th>param_classifier__gamma</th>\n",
       "      <th>params</th>\n",
       "      <th>split0_test_score</th>\n",
       "      <th>split1_test_score</th>\n",
       "      <th>split2_test_score</th>\n",
       "      <th>mean_test_score</th>\n",
       "      <th>std_test_score</th>\n",
       "      <th>rank_test_score</th>\n",
       "    </tr>\n",
       "  </thead>\n",
       "  <tbody>\n",
       "    <tr>\n",
       "      <th>0</th>\n",
       "      <td>0.01</td>\n",
       "      <td>0.00</td>\n",
       "      <td>0.01</td>\n",
       "      <td>0.00</td>\n",
       "      <td>LGBMClassifier(n_jobs=3, verbose=-1)</td>\n",
       "      <td>0.85</td>\n",
       "      <td>0.41</td>\n",
       "      <td>10</td>\n",
       "      <td>16.92</td>\n",
       "      <td>138</td>\n",
       "      <td>...</td>\n",
       "      <td>1</td>\n",
       "      <td>NaN</td>\n",
       "      <td>NaN</td>\n",
       "      <td>{'classifier': LGBMClassifier(n_jobs=3, verbos...</td>\n",
       "      <td>0.50</td>\n",
       "      <td>0.50</td>\n",
       "      <td>0.50</td>\n",
       "      <td>0.50</td>\n",
       "      <td>0.00</td>\n",
       "      <td>45</td>\n",
       "    </tr>\n",
       "    <tr>\n",
       "      <th>1</th>\n",
       "      <td>0.03</td>\n",
       "      <td>0.03</td>\n",
       "      <td>0.01</td>\n",
       "      <td>0.00</td>\n",
       "      <td>LGBMClassifier(n_jobs=3, verbose=-1)</td>\n",
       "      <td>0.99</td>\n",
       "      <td>0.06</td>\n",
       "      <td>6</td>\n",
       "      <td>19.27</td>\n",
       "      <td>92</td>\n",
       "      <td>...</td>\n",
       "      <td>1</td>\n",
       "      <td>NaN</td>\n",
       "      <td>NaN</td>\n",
       "      <td>{'classifier': LGBMClassifier(n_jobs=3, verbos...</td>\n",
       "      <td>0.50</td>\n",
       "      <td>0.50</td>\n",
       "      <td>0.50</td>\n",
       "      <td>0.50</td>\n",
       "      <td>0.00</td>\n",
       "      <td>45</td>\n",
       "    </tr>\n",
       "    <tr>\n",
       "      <th>2</th>\n",
       "      <td>0.01</td>\n",
       "      <td>0.00</td>\n",
       "      <td>0.01</td>\n",
       "      <td>0.00</td>\n",
       "      <td>LGBMClassifier(n_jobs=3, verbose=-1)</td>\n",
       "      <td>0.89</td>\n",
       "      <td>0.17</td>\n",
       "      <td>3</td>\n",
       "      <td>16.21</td>\n",
       "      <td>30</td>\n",
       "      <td>...</td>\n",
       "      <td>2</td>\n",
       "      <td>NaN</td>\n",
       "      <td>NaN</td>\n",
       "      <td>{'classifier': LGBMClassifier(n_jobs=3, verbos...</td>\n",
       "      <td>0.50</td>\n",
       "      <td>0.50</td>\n",
       "      <td>0.50</td>\n",
       "      <td>0.50</td>\n",
       "      <td>0.00</td>\n",
       "      <td>45</td>\n",
       "    </tr>\n",
       "    <tr>\n",
       "      <th>3</th>\n",
       "      <td>0.01</td>\n",
       "      <td>0.00</td>\n",
       "      <td>0.01</td>\n",
       "      <td>0.00</td>\n",
       "      <td>LogisticRegression(max_iter=1000)</td>\n",
       "      <td>NaN</td>\n",
       "      <td>NaN</td>\n",
       "      <td>NaN</td>\n",
       "      <td>NaN</td>\n",
       "      <td>NaN</td>\n",
       "      <td>...</td>\n",
       "      <td>NaN</td>\n",
       "      <td>0.10</td>\n",
       "      <td>NaN</td>\n",
       "      <td>{'classifier': LogisticRegression(max_iter=100...</td>\n",
       "      <td>0.71</td>\n",
       "      <td>0.50</td>\n",
       "      <td>0.64</td>\n",
       "      <td>0.62</td>\n",
       "      <td>0.09</td>\n",
       "      <td>24</td>\n",
       "    </tr>\n",
       "    <tr>\n",
       "      <th>4</th>\n",
       "      <td>0.01</td>\n",
       "      <td>0.00</td>\n",
       "      <td>0.01</td>\n",
       "      <td>0.00</td>\n",
       "      <td>LGBMClassifier(n_jobs=3, verbose=-1)</td>\n",
       "      <td>0.97</td>\n",
       "      <td>0.06</td>\n",
       "      <td>8</td>\n",
       "      <td>15.51</td>\n",
       "      <td>131</td>\n",
       "      <td>...</td>\n",
       "      <td>3</td>\n",
       "      <td>NaN</td>\n",
       "      <td>NaN</td>\n",
       "      <td>{'classifier': LGBMClassifier(n_jobs=3, verbos...</td>\n",
       "      <td>0.50</td>\n",
       "      <td>0.50</td>\n",
       "      <td>0.50</td>\n",
       "      <td>0.50</td>\n",
       "      <td>0.00</td>\n",
       "      <td>45</td>\n",
       "    </tr>\n",
       "  </tbody>\n",
       "</table>\n",
       "<p>5 rows × 22 columns</p>\n",
       "</div>"
      ],
      "text/plain": [
       "   mean_fit_time  std_fit_time  mean_score_time  std_score_time   \n",
       "0           0.01          0.00             0.01            0.00  \\\n",
       "1           0.03          0.03             0.01            0.00   \n",
       "2           0.01          0.00             0.01            0.00   \n",
       "3           0.01          0.00             0.01            0.00   \n",
       "4           0.01          0.00             0.01            0.00   \n",
       "\n",
       "                       param_classifier param_classifier__colsample_bytree   \n",
       "0  LGBMClassifier(n_jobs=3, verbose=-1)                               0.85  \\\n",
       "1  LGBMClassifier(n_jobs=3, verbose=-1)                               0.99   \n",
       "2  LGBMClassifier(n_jobs=3, verbose=-1)                               0.89   \n",
       "3     LogisticRegression(max_iter=1000)                                NaN   \n",
       "4  LGBMClassifier(n_jobs=3, verbose=-1)                               0.97   \n",
       "\n",
       "  param_classifier__learning_rate param_classifier__max_depth   \n",
       "0                            0.41                          10  \\\n",
       "1                            0.06                           6   \n",
       "2                            0.17                           3   \n",
       "3                             NaN                         NaN   \n",
       "4                            0.06                           8   \n",
       "\n",
       "  param_classifier__min_child_weight param_classifier__n_estimators  ...   \n",
       "0                              16.92                            138  ...  \\\n",
       "1                              19.27                             92  ...   \n",
       "2                              16.21                             30  ...   \n",
       "3                                NaN                            NaN  ...   \n",
       "4                              15.51                            131  ...   \n",
       "\n",
       "  param_selector_num__poly__degree param_classifier__C   \n",
       "0                                1                 NaN  \\\n",
       "1                                1                 NaN   \n",
       "2                                2                 NaN   \n",
       "3                              NaN                0.10   \n",
       "4                                3                 NaN   \n",
       "\n",
       "  param_classifier__gamma                                             params   \n",
       "0                     NaN  {'classifier': LGBMClassifier(n_jobs=3, verbos...  \\\n",
       "1                     NaN  {'classifier': LGBMClassifier(n_jobs=3, verbos...   \n",
       "2                     NaN  {'classifier': LGBMClassifier(n_jobs=3, verbos...   \n",
       "3                     NaN  {'classifier': LogisticRegression(max_iter=100...   \n",
       "4                     NaN  {'classifier': LGBMClassifier(n_jobs=3, verbos...   \n",
       "\n",
       "  split0_test_score split1_test_score  split2_test_score  mean_test_score   \n",
       "0              0.50              0.50               0.50             0.50  \\\n",
       "1              0.50              0.50               0.50             0.50   \n",
       "2              0.50              0.50               0.50             0.50   \n",
       "3              0.71              0.50               0.64             0.62   \n",
       "4              0.50              0.50               0.50             0.50   \n",
       "\n",
       "   std_test_score  rank_test_score  \n",
       "0            0.00               45  \n",
       "1            0.00               45  \n",
       "2            0.00               45  \n",
       "3            0.09               24  \n",
       "4            0.00               45  \n",
       "\n",
       "[5 rows x 22 columns]"
      ]
     },
     "execution_count": 80,
     "metadata": {},
     "output_type": "execute_result"
    }
   ],
   "source": [
    "results.head()"
   ]
  },
  {
   "cell_type": "code",
   "execution_count": 81,
   "metadata": {},
   "outputs": [
    {
     "data": {
      "text/html": [
       "<div>\n",
       "<style scoped>\n",
       "    .dataframe tbody tr th:only-of-type {\n",
       "        vertical-align: middle;\n",
       "    }\n",
       "\n",
       "    .dataframe tbody tr th {\n",
       "        vertical-align: top;\n",
       "    }\n",
       "\n",
       "    .dataframe thead th {\n",
       "        text-align: right;\n",
       "    }\n",
       "</style>\n",
       "<table border=\"1\" class=\"dataframe\">\n",
       "  <thead>\n",
       "    <tr style=\"text-align: right;\">\n",
       "      <th></th>\n",
       "      <th>param_classifier</th>\n",
       "      <th>mean_test_score</th>\n",
       "    </tr>\n",
       "  </thead>\n",
       "  <tbody>\n",
       "    <tr>\n",
       "      <th>0</th>\n",
       "      <td>LGBMClassifier(n_jobs=3, verbose=-1)</td>\n",
       "      <td>0.50</td>\n",
       "    </tr>\n",
       "    <tr>\n",
       "      <th>1</th>\n",
       "      <td>LGBMClassifier(n_jobs=3, verbose=-1)</td>\n",
       "      <td>0.50</td>\n",
       "    </tr>\n",
       "    <tr>\n",
       "      <th>2</th>\n",
       "      <td>LGBMClassifier(n_jobs=3, verbose=-1)</td>\n",
       "      <td>0.50</td>\n",
       "    </tr>\n",
       "    <tr>\n",
       "      <th>3</th>\n",
       "      <td>LogisticRegression(max_iter=1000)</td>\n",
       "      <td>0.62</td>\n",
       "    </tr>\n",
       "    <tr>\n",
       "      <th>4</th>\n",
       "      <td>LGBMClassifier(n_jobs=3, verbose=-1)</td>\n",
       "      <td>0.50</td>\n",
       "    </tr>\n",
       "    <tr>\n",
       "      <th>...</th>\n",
       "      <td>...</td>\n",
       "      <td>...</td>\n",
       "    </tr>\n",
       "    <tr>\n",
       "      <th>95</th>\n",
       "      <td>LGBMClassifier(n_jobs=3, verbose=-1)</td>\n",
       "      <td>0.50</td>\n",
       "    </tr>\n",
       "    <tr>\n",
       "      <th>96</th>\n",
       "      <td>LGBMClassifier(n_jobs=3, verbose=-1)</td>\n",
       "      <td>0.50</td>\n",
       "    </tr>\n",
       "    <tr>\n",
       "      <th>97</th>\n",
       "      <td>XGBClassifier(base_score=None, booster=None, c...</td>\n",
       "      <td>0.50</td>\n",
       "    </tr>\n",
       "    <tr>\n",
       "      <th>98</th>\n",
       "      <td>LogisticRegression(max_iter=1000)</td>\n",
       "      <td>0.62</td>\n",
       "    </tr>\n",
       "    <tr>\n",
       "      <th>99</th>\n",
       "      <td>&lt;catboost.core.CatBoostClassifier object at 0x...</td>\n",
       "      <td>0.67</td>\n",
       "    </tr>\n",
       "  </tbody>\n",
       "</table>\n",
       "<p>100 rows × 2 columns</p>\n",
       "</div>"
      ],
      "text/plain": [
       "                                     param_classifier  mean_test_score\n",
       "0                LGBMClassifier(n_jobs=3, verbose=-1)             0.50\n",
       "1                LGBMClassifier(n_jobs=3, verbose=-1)             0.50\n",
       "2                LGBMClassifier(n_jobs=3, verbose=-1)             0.50\n",
       "3                   LogisticRegression(max_iter=1000)             0.62\n",
       "4                LGBMClassifier(n_jobs=3, verbose=-1)             0.50\n",
       "..                                                ...              ...\n",
       "95               LGBMClassifier(n_jobs=3, verbose=-1)             0.50\n",
       "96               LGBMClassifier(n_jobs=3, verbose=-1)             0.50\n",
       "97  XGBClassifier(base_score=None, booster=None, c...             0.50\n",
       "98                  LogisticRegression(max_iter=1000)             0.62\n",
       "99  <catboost.core.CatBoostClassifier object at 0x...             0.67\n",
       "\n",
       "[100 rows x 2 columns]"
      ]
     },
     "execution_count": 81,
     "metadata": {},
     "output_type": "execute_result"
    }
   ],
   "source": [
    "# results[['param_classifier', 'mean_test_score']].groupby('param_classifier').mean().sort_values(by='mean_test_score', ascending=False)\n",
    "results[['param_classifier', 'mean_test_score']]"
   ]
  },
  {
   "cell_type": "code",
   "execution_count": 82,
   "metadata": {},
   "outputs": [
    {
     "data": {
      "text/plain": [
       "(Pipeline(steps=[('selector_num',\n",
       "                  ColumnTransformer(remainder='passthrough',\n",
       "                                    transformers=[('poly',\n",
       "                                                   PolynomialFeatures(degree=3),\n",
       "                                                   ['ccbd_diameter',\n",
       "                                                    'sl2l_mean_length',\n",
       "                                                    'ecpl_mean_length',\n",
       "                                                    'ccbd_number_of_tracts'])])),\n",
       "                 ('classifier',\n",
       "                  XGBClassifier(base_score=None, booster=None, callbacks=None,\n",
       "                                colsample_bylevel=None, colsample_bynode=None,\n",
       "                                colsample_bytree=0.82411...\n",
       "                                importance_type=None,\n",
       "                                interaction_constraints=None,\n",
       "                                learning_rate=0.42611851803126616, max_bin=None,\n",
       "                                max_cat_threshold=None, max_cat_to_onehot=None,\n",
       "                                max_delta_step=None, max_depth=9,\n",
       "                                max_leaves=None,\n",
       "                                min_child_weight=2.002336501990897, missing=nan,\n",
       "                                monotone_constraints=None, n_estimators=23,\n",
       "                                n_jobs=3, num_parallel_tree=None, predictor=None,\n",
       "                                random_state=None, ...))]),\n",
       " 0.7380952380952381)"
      ]
     },
     "execution_count": 82,
     "metadata": {},
     "output_type": "execute_result"
    }
   ],
   "source": [
    "model.best_estimator_, model.best_score_"
   ]
  },
  {
   "cell_type": "code",
   "execution_count": 83,
   "metadata": {},
   "outputs": [
    {
     "data": {
      "text/plain": [
       "0.7380952380952381"
      ]
     },
     "execution_count": 83,
     "metadata": {},
     "output_type": "execute_result"
    }
   ],
   "source": [
    "model.best_score_"
   ]
  },
  {
   "cell_type": "code",
   "execution_count": 84,
   "metadata": {},
   "outputs": [],
   "source": [
    "X_test_ = pd.DataFrame(X_test, columns=['ccbd_diameter','sl2l_mean_length','ecpl_mean_length','ccbd_number_of_tracts','label'])"
   ]
  },
  {
   "cell_type": "code",
   "execution_count": 85,
   "metadata": {},
   "outputs": [],
   "source": [
    "y_predicted = model.predict_proba(X_test_)"
   ]
  },
  {
   "cell_type": "code",
   "execution_count": 86,
   "metadata": {},
   "outputs": [
    {
     "data": {
      "text/plain": [
       "<Axes: title={'center': 'ROC Curves'}, xlabel='False Positive Rate', ylabel='True Positive Rate'>"
      ]
     },
     "execution_count": 86,
     "metadata": {},
     "output_type": "execute_result"
    },
    {
     "data": {
      "image/png": "[encoded data removed]",
      "text/plain": [
       "<Figure size 640x480 with 1 Axes>"
      ]
     },
     "metadata": {},
     "output_type": "display_data"
    }
   ],
   "source": [
    "plot_roc(y_test, y_predicted)"
   ]
  },
  {
   "cell_type": "code",
   "execution_count": 87,
   "metadata": {},
   "outputs": [
    {
     "data": {
      "text/plain": [
       "0.6363636363636365"
      ]
     },
     "execution_count": 87,
     "metadata": {},
     "output_type": "execute_result"
    }
   ],
   "source": [
    "roc_auc_score(y_test, y_predicted[:,1])"
   ]
  },
  {
   "cell_type": "code",
   "execution_count": 88,
   "metadata": {},
   "outputs": [
    {
     "name": "stdout",
     "output_type": "stream",
     "text": [
      "              precision    recall  f1-score   support\n",
      "\n",
      "           0       0.40      0.50      0.44         4\n",
      "           1       0.80      0.73      0.76        11\n",
      "\n",
      "    accuracy                           0.67        15\n",
      "   macro avg       0.60      0.61      0.60        15\n",
      "weighted avg       0.69      0.67      0.68        15\n",
      "\n"
     ]
    }
   ],
   "source": [
    "print(classification_report(y_true=y_test,y_pred=model.predict(X_test_)))"
   ]
  },
  {
   "cell_type": "code",
   "execution_count": 89,
   "metadata": {},
   "outputs": [
    {
     "data": {
      "image/png": "[encoded data removed]",
      "text/plain": [
       "<Figure size 640x480 with 2 Axes>"
      ]
     },
     "metadata": {},
     "output_type": "display_data"
    }
   ],
   "source": [
    "class_names = ['Estudio', 'Control']\n",
    "ConfusionMatrixDisplay.from_estimator(model, X_test_, y_test, display_labels=class_names, cmap=plt.cm.Blues)\n",
    "plt.show()"
   ]
  },
  {
   "cell_type": "code",
   "execution_count": 90,
   "metadata": {},
   "outputs": [],
   "source": [
    "pipelines = {\n",
    "    'lr':make_pipeline(StandardScaler(), LogisticRegression(penalty = 'l2', class_weight='balanced', max_iter=20000)),\n",
    "    'rc':make_pipeline(StandardScaler(), RidgeClassifier()),\n",
    "    'rf':make_pipeline(StandardScaler(), RandomForestClassifier()),\n",
    "    'gb':make_pipeline(StandardScaler(), GradientBoostingClassifier()),\n",
    "    'cb':make_pipeline(StandardScaler(), CatBoostClassifier(thread_count=3, verbose=False))}\n"
   ]
  },
  {
   "cell_type": "code",
   "execution_count": 91,
   "metadata": {},
   "outputs": [
    {
     "data": {
      "text/html": [
       "<div>\n",
       "<style scoped>\n",
       "    .dataframe tbody tr th:only-of-type {\n",
       "        vertical-align: middle;\n",
       "    }\n",
       "\n",
       "    .dataframe tbody tr th {\n",
       "        vertical-align: top;\n",
       "    }\n",
       "\n",
       "    .dataframe thead th {\n",
       "        text-align: right;\n",
       "    }\n",
       "</style>\n",
       "<table border=\"1\" class=\"dataframe\">\n",
       "  <thead>\n",
       "    <tr style=\"text-align: right;\">\n",
       "      <th></th>\n",
       "      <th>mean_fit_time</th>\n",
       "      <th>std_fit_time</th>\n",
       "      <th>mean_score_time</th>\n",
       "      <th>std_score_time</th>\n",
       "      <th>param_classifier</th>\n",
       "      <th>param_classifier__colsample_bytree</th>\n",
       "      <th>param_classifier__learning_rate</th>\n",
       "      <th>param_classifier__max_depth</th>\n",
       "      <th>param_classifier__min_child_weight</th>\n",
       "      <th>param_classifier__n_estimators</th>\n",
       "      <th>...</th>\n",
       "      <th>param_selector_num__poly__degree</th>\n",
       "      <th>param_classifier__C</th>\n",
       "      <th>param_classifier__gamma</th>\n",
       "      <th>params</th>\n",
       "      <th>split0_test_score</th>\n",
       "      <th>split1_test_score</th>\n",
       "      <th>split2_test_score</th>\n",
       "      <th>mean_test_score</th>\n",
       "      <th>std_test_score</th>\n",
       "      <th>rank_test_score</th>\n",
       "    </tr>\n",
       "  </thead>\n",
       "  <tbody>\n",
       "    <tr>\n",
       "      <th>0</th>\n",
       "      <td>0.01</td>\n",
       "      <td>0.00</td>\n",
       "      <td>0.01</td>\n",
       "      <td>0.00</td>\n",
       "      <td>LGBMClassifier(n_jobs=3, verbose=-1)</td>\n",
       "      <td>0.85</td>\n",
       "      <td>0.41</td>\n",
       "      <td>10</td>\n",
       "      <td>16.92</td>\n",
       "      <td>138</td>\n",
       "      <td>...</td>\n",
       "      <td>1</td>\n",
       "      <td>NaN</td>\n",
       "      <td>NaN</td>\n",
       "      <td>{'classifier': LGBMClassifier(n_jobs=3, verbos...</td>\n",
       "      <td>0.50</td>\n",
       "      <td>0.50</td>\n",
       "      <td>0.50</td>\n",
       "      <td>0.50</td>\n",
       "      <td>0.00</td>\n",
       "      <td>45</td>\n",
       "    </tr>\n",
       "    <tr>\n",
       "      <th>1</th>\n",
       "      <td>0.03</td>\n",
       "      <td>0.03</td>\n",
       "      <td>0.01</td>\n",
       "      <td>0.00</td>\n",
       "      <td>LGBMClassifier(n_jobs=3, verbose=-1)</td>\n",
       "      <td>0.99</td>\n",
       "      <td>0.06</td>\n",
       "      <td>6</td>\n",
       "      <td>19.27</td>\n",
       "      <td>92</td>\n",
       "      <td>...</td>\n",
       "      <td>1</td>\n",
       "      <td>NaN</td>\n",
       "      <td>NaN</td>\n",
       "      <td>{'classifier': LGBMClassifier(n_jobs=3, verbos...</td>\n",
       "      <td>0.50</td>\n",
       "      <td>0.50</td>\n",
       "      <td>0.50</td>\n",
       "      <td>0.50</td>\n",
       "      <td>0.00</td>\n",
       "      <td>45</td>\n",
       "    </tr>\n",
       "    <tr>\n",
       "      <th>2</th>\n",
       "      <td>0.01</td>\n",
       "      <td>0.00</td>\n",
       "      <td>0.01</td>\n",
       "      <td>0.00</td>\n",
       "      <td>LGBMClassifier(n_jobs=3, verbose=-1)</td>\n",
       "      <td>0.89</td>\n",
       "      <td>0.17</td>\n",
       "      <td>3</td>\n",
       "      <td>16.21</td>\n",
       "      <td>30</td>\n",
       "      <td>...</td>\n",
       "      <td>2</td>\n",
       "      <td>NaN</td>\n",
       "      <td>NaN</td>\n",
       "      <td>{'classifier': LGBMClassifier(n_jobs=3, verbos...</td>\n",
       "      <td>0.50</td>\n",
       "      <td>0.50</td>\n",
       "      <td>0.50</td>\n",
       "      <td>0.50</td>\n",
       "      <td>0.00</td>\n",
       "      <td>45</td>\n",
       "    </tr>\n",
       "    <tr>\n",
       "      <th>3</th>\n",
       "      <td>0.01</td>\n",
       "      <td>0.00</td>\n",
       "      <td>0.01</td>\n",
       "      <td>0.00</td>\n",
       "      <td>LogisticRegression(max_iter=1000)</td>\n",
       "      <td>NaN</td>\n",
       "      <td>NaN</td>\n",
       "      <td>NaN</td>\n",
       "      <td>NaN</td>\n",
       "      <td>NaN</td>\n",
       "      <td>...</td>\n",
       "      <td>NaN</td>\n",
       "      <td>0.10</td>\n",
       "      <td>NaN</td>\n",
       "      <td>{'classifier': LogisticRegression(max_iter=100...</td>\n",
       "      <td>0.71</td>\n",
       "      <td>0.50</td>\n",
       "      <td>0.64</td>\n",
       "      <td>0.62</td>\n",
       "      <td>0.09</td>\n",
       "      <td>24</td>\n",
       "    </tr>\n",
       "    <tr>\n",
       "      <th>4</th>\n",
       "      <td>0.01</td>\n",
       "      <td>0.00</td>\n",
       "      <td>0.01</td>\n",
       "      <td>0.00</td>\n",
       "      <td>LGBMClassifier(n_jobs=3, verbose=-1)</td>\n",
       "      <td>0.97</td>\n",
       "      <td>0.06</td>\n",
       "      <td>8</td>\n",
       "      <td>15.51</td>\n",
       "      <td>131</td>\n",
       "      <td>...</td>\n",
       "      <td>3</td>\n",
       "      <td>NaN</td>\n",
       "      <td>NaN</td>\n",
       "      <td>{'classifier': LGBMClassifier(n_jobs=3, verbos...</td>\n",
       "      <td>0.50</td>\n",
       "      <td>0.50</td>\n",
       "      <td>0.50</td>\n",
       "      <td>0.50</td>\n",
       "      <td>0.00</td>\n",
       "      <td>45</td>\n",
       "    </tr>\n",
       "    <tr>\n",
       "      <th>...</th>\n",
       "      <td>...</td>\n",
       "      <td>...</td>\n",
       "      <td>...</td>\n",
       "      <td>...</td>\n",
       "      <td>...</td>\n",
       "      <td>...</td>\n",
       "      <td>...</td>\n",
       "      <td>...</td>\n",
       "      <td>...</td>\n",
       "      <td>...</td>\n",
       "      <td>...</td>\n",
       "      <td>...</td>\n",
       "      <td>...</td>\n",
       "      <td>...</td>\n",
       "      <td>...</td>\n",
       "      <td>...</td>\n",
       "      <td>...</td>\n",
       "      <td>...</td>\n",
       "      <td>...</td>\n",
       "      <td>...</td>\n",
       "      <td>...</td>\n",
       "    </tr>\n",
       "    <tr>\n",
       "      <th>95</th>\n",
       "      <td>0.01</td>\n",
       "      <td>0.00</td>\n",
       "      <td>0.00</td>\n",
       "      <td>0.00</td>\n",
       "      <td>LGBMClassifier(n_jobs=3, verbose=-1)</td>\n",
       "      <td>0.77</td>\n",
       "      <td>0.44</td>\n",
       "      <td>10</td>\n",
       "      <td>7.62</td>\n",
       "      <td>112</td>\n",
       "      <td>...</td>\n",
       "      <td>2</td>\n",
       "      <td>NaN</td>\n",
       "      <td>NaN</td>\n",
       "      <td>{'classifier': LGBMClassifier(n_jobs=3, verbos...</td>\n",
       "      <td>0.50</td>\n",
       "      <td>0.50</td>\n",
       "      <td>0.50</td>\n",
       "      <td>0.50</td>\n",
       "      <td>0.00</td>\n",
       "      <td>45</td>\n",
       "    </tr>\n",
       "    <tr>\n",
       "      <th>96</th>\n",
       "      <td>0.01</td>\n",
       "      <td>0.00</td>\n",
       "      <td>0.00</td>\n",
       "      <td>0.00</td>\n",
       "      <td>LGBMClassifier(n_jobs=3, verbose=-1)</td>\n",
       "      <td>0.96</td>\n",
       "      <td>0.25</td>\n",
       "      <td>7</td>\n",
       "      <td>12.95</td>\n",
       "      <td>61</td>\n",
       "      <td>...</td>\n",
       "      <td>2</td>\n",
       "      <td>NaN</td>\n",
       "      <td>NaN</td>\n",
       "      <td>{'classifier': LGBMClassifier(n_jobs=3, verbos...</td>\n",
       "      <td>0.50</td>\n",
       "      <td>0.50</td>\n",
       "      <td>0.50</td>\n",
       "      <td>0.50</td>\n",
       "      <td>0.00</td>\n",
       "      <td>45</td>\n",
       "    </tr>\n",
       "    <tr>\n",
       "      <th>97</th>\n",
       "      <td>0.01</td>\n",
       "      <td>0.00</td>\n",
       "      <td>0.01</td>\n",
       "      <td>0.00</td>\n",
       "      <td>XGBClassifier(base_score=None, booster=None, c...</td>\n",
       "      <td>0.99</td>\n",
       "      <td>0.15</td>\n",
       "      <td>9</td>\n",
       "      <td>2.23</td>\n",
       "      <td>67</td>\n",
       "      <td>...</td>\n",
       "      <td>2</td>\n",
       "      <td>NaN</td>\n",
       "      <td>1.50</td>\n",
       "      <td>{'classifier': XGBClassifier(base_score=None, ...</td>\n",
       "      <td>0.50</td>\n",
       "      <td>0.50</td>\n",
       "      <td>0.50</td>\n",
       "      <td>0.50</td>\n",
       "      <td>0.00</td>\n",
       "      <td>45</td>\n",
       "    </tr>\n",
       "    <tr>\n",
       "      <th>98</th>\n",
       "      <td>0.01</td>\n",
       "      <td>0.00</td>\n",
       "      <td>0.00</td>\n",
       "      <td>0.00</td>\n",
       "      <td>LogisticRegression(max_iter=1000)</td>\n",
       "      <td>NaN</td>\n",
       "      <td>NaN</td>\n",
       "      <td>NaN</td>\n",
       "      <td>NaN</td>\n",
       "      <td>NaN</td>\n",
       "      <td>...</td>\n",
       "      <td>NaN</td>\n",
       "      <td>0.01</td>\n",
       "      <td>NaN</td>\n",
       "      <td>{'classifier': LogisticRegression(max_iter=100...</td>\n",
       "      <td>0.71</td>\n",
       "      <td>0.50</td>\n",
       "      <td>0.64</td>\n",
       "      <td>0.62</td>\n",
       "      <td>0.09</td>\n",
       "      <td>24</td>\n",
       "    </tr>\n",
       "    <tr>\n",
       "      <th>99</th>\n",
       "      <td>0.21</td>\n",
       "      <td>0.03</td>\n",
       "      <td>0.00</td>\n",
       "      <td>0.00</td>\n",
       "      <td>&lt;catboost.core.CatBoostClassifier object at 0x...</td>\n",
       "      <td>NaN</td>\n",
       "      <td>0.37</td>\n",
       "      <td>9</td>\n",
       "      <td>NaN</td>\n",
       "      <td>48</td>\n",
       "      <td>...</td>\n",
       "      <td>3</td>\n",
       "      <td>NaN</td>\n",
       "      <td>NaN</td>\n",
       "      <td>{'classifier': &lt;catboost.core.CatBoostClassifi...</td>\n",
       "      <td>0.64</td>\n",
       "      <td>0.79</td>\n",
       "      <td>0.57</td>\n",
       "      <td>0.67</td>\n",
       "      <td>0.09</td>\n",
       "      <td>5</td>\n",
       "    </tr>\n",
       "  </tbody>\n",
       "</table>\n",
       "<p>100 rows × 22 columns</p>\n",
       "</div>"
      ],
      "text/plain": [
       "    mean_fit_time  std_fit_time  mean_score_time  std_score_time   \n",
       "0            0.01          0.00             0.01            0.00  \\\n",
       "1            0.03          0.03             0.01            0.00   \n",
       "2            0.01          0.00             0.01            0.00   \n",
       "3            0.01          0.00             0.01            0.00   \n",
       "4            0.01          0.00             0.01            0.00   \n",
       "..            ...           ...              ...             ...   \n",
       "95           0.01          0.00             0.00            0.00   \n",
       "96           0.01          0.00             0.00            0.00   \n",
       "97           0.01          0.00             0.01            0.00   \n",
       "98           0.01          0.00             0.00            0.00   \n",
       "99           0.21          0.03             0.00            0.00   \n",
       "\n",
       "                                     param_classifier   \n",
       "0                LGBMClassifier(n_jobs=3, verbose=-1)  \\\n",
       "1                LGBMClassifier(n_jobs=3, verbose=-1)   \n",
       "2                LGBMClassifier(n_jobs=3, verbose=-1)   \n",
       "3                   LogisticRegression(max_iter=1000)   \n",
       "4                LGBMClassifier(n_jobs=3, verbose=-1)   \n",
       "..                                                ...   \n",
       "95               LGBMClassifier(n_jobs=3, verbose=-1)   \n",
       "96               LGBMClassifier(n_jobs=3, verbose=-1)   \n",
       "97  XGBClassifier(base_score=None, booster=None, c...   \n",
       "98                  LogisticRegression(max_iter=1000)   \n",
       "99  <catboost.core.CatBoostClassifier object at 0x...   \n",
       "\n",
       "   param_classifier__colsample_bytree param_classifier__learning_rate   \n",
       "0                                0.85                            0.41  \\\n",
       "1                                0.99                            0.06   \n",
       "2                                0.89                            0.17   \n",
       "3                                 NaN                             NaN   \n",
       "4                                0.97                            0.06   \n",
       "..                                ...                             ...   \n",
       "95                               0.77                            0.44   \n",
       "96                               0.96                            0.25   \n",
       "97                               0.99                            0.15   \n",
       "98                                NaN                             NaN   \n",
       "99                                NaN                            0.37   \n",
       "\n",
       "   param_classifier__max_depth param_classifier__min_child_weight   \n",
       "0                           10                              16.92  \\\n",
       "1                            6                              19.27   \n",
       "2                            3                              16.21   \n",
       "3                          NaN                                NaN   \n",
       "4                            8                              15.51   \n",
       "..                         ...                                ...   \n",
       "95                          10                               7.62   \n",
       "96                           7                              12.95   \n",
       "97                           9                               2.23   \n",
       "98                         NaN                                NaN   \n",
       "99                           9                                NaN   \n",
       "\n",
       "   param_classifier__n_estimators  ... param_selector_num__poly__degree   \n",
       "0                             138  ...                                1  \\\n",
       "1                              92  ...                                1   \n",
       "2                              30  ...                                2   \n",
       "3                             NaN  ...                              NaN   \n",
       "4                             131  ...                                3   \n",
       "..                            ...  ...                              ...   \n",
       "95                            112  ...                                2   \n",
       "96                             61  ...                                2   \n",
       "97                             67  ...                                2   \n",
       "98                            NaN  ...                              NaN   \n",
       "99                             48  ...                                3   \n",
       "\n",
       "   param_classifier__C param_classifier__gamma   \n",
       "0                  NaN                     NaN  \\\n",
       "1                  NaN                     NaN   \n",
       "2                  NaN                     NaN   \n",
       "3                 0.10                     NaN   \n",
       "4                  NaN                     NaN   \n",
       "..                 ...                     ...   \n",
       "95                 NaN                     NaN   \n",
       "96                 NaN                     NaN   \n",
       "97                 NaN                    1.50   \n",
       "98                0.01                     NaN   \n",
       "99                 NaN                     NaN   \n",
       "\n",
       "                                               params split0_test_score   \n",
       "0   {'classifier': LGBMClassifier(n_jobs=3, verbos...              0.50  \\\n",
       "1   {'classifier': LGBMClassifier(n_jobs=3, verbos...              0.50   \n",
       "2   {'classifier': LGBMClassifier(n_jobs=3, verbos...              0.50   \n",
       "3   {'classifier': LogisticRegression(max_iter=100...              0.71   \n",
       "4   {'classifier': LGBMClassifier(n_jobs=3, verbos...              0.50   \n",
       "..                                                ...               ...   \n",
       "95  {'classifier': LGBMClassifier(n_jobs=3, verbos...              0.50   \n",
       "96  {'classifier': LGBMClassifier(n_jobs=3, verbos...              0.50   \n",
       "97  {'classifier': XGBClassifier(base_score=None, ...              0.50   \n",
       "98  {'classifier': LogisticRegression(max_iter=100...              0.71   \n",
       "99  {'classifier': <catboost.core.CatBoostClassifi...              0.64   \n",
       "\n",
       "   split1_test_score  split2_test_score  mean_test_score  std_test_score   \n",
       "0               0.50               0.50             0.50            0.00  \\\n",
       "1               0.50               0.50             0.50            0.00   \n",
       "2               0.50               0.50             0.50            0.00   \n",
       "3               0.50               0.64             0.62            0.09   \n",
       "4               0.50               0.50             0.50            0.00   \n",
       "..               ...                ...              ...             ...   \n",
       "95              0.50               0.50             0.50            0.00   \n",
       "96              0.50               0.50             0.50            0.00   \n",
       "97              0.50               0.50             0.50            0.00   \n",
       "98              0.50               0.64             0.62            0.09   \n",
       "99              0.79               0.57             0.67            0.09   \n",
       "\n",
       "    rank_test_score  \n",
       "0                45  \n",
       "1                45  \n",
       "2                45  \n",
       "3                24  \n",
       "4                45  \n",
       "..              ...  \n",
       "95               45  \n",
       "96               45  \n",
       "97               45  \n",
       "98               24  \n",
       "99                5  \n",
       "\n",
       "[100 rows x 22 columns]"
      ]
     },
     "execution_count": 91,
     "metadata": {},
     "output_type": "execute_result"
    }
   ],
   "source": [
    "results"
   ]
  },
  {
   "cell_type": "code",
   "execution_count": null,
   "metadata": {},
   "outputs": [],
   "source": []
  },
  {
   "cell_type": "code",
   "execution_count": 92,
   "metadata": {},
   "outputs": [
    {
     "data": {
      "text/plain": [
       "((42, 4), (42, 1))"
      ]
     },
     "execution_count": 92,
     "metadata": {},
     "output_type": "execute_result"
    }
   ],
   "source": [
    "X_train.shape, y_train.shape"
   ]
  },
  {
   "cell_type": "code",
   "execution_count": 93,
   "metadata": {},
   "outputs": [],
   "source": [
    "X_= X_train.reset_index()\n",
    "y_= y_train.reset_index()"
   ]
  },
  {
   "cell_type": "code",
   "execution_count": 94,
   "metadata": {},
   "outputs": [],
   "source": [
    "X_=X_.drop('index', axis=1)\n",
    "y_=y_.drop('index', axis=1)"
   ]
  },
  {
   "cell_type": "code",
   "execution_count": 95,
   "metadata": {},
   "outputs": [
    {
     "name": "stdout",
     "output_type": "stream",
     "text": [
      "lr ac-sc: 0.214 pr-sc: 0.208 rc-sc: 0.214\n",
      "lr ac-sc: 0.357 pr-sc: 0.325 rc-sc: 0.357\n",
      "lr ac-sc: 0.714 pr-sc: 0.714 rc-sc: 0.714\n",
      "----------------------------------------------------\n",
      "--------------PROMEDIOS--DE-- lr -------------------------\n",
      "Accuracy 0.429 precision_score 0.416 recall_score 0.429\n",
      "----------------------------------------------------\n",
      "----------------------------------------------------\n",
      "rc ac-sc: 0.286 pr-sc: 0.267 rc-sc: 0.286\n",
      "rc ac-sc: 0.5 pr-sc: 0.5 rc-sc: 0.5\n",
      "rc ac-sc: 0.143 pr-sc: 0.111 rc-sc: 0.143\n",
      "----------------------------------------------------\n",
      "--------------PROMEDIOS--DE-- rc -------------------------\n",
      "Accuracy 0.31 precision_score 0.293 recall_score 0.31\n",
      "----------------------------------------------------\n",
      "----------------------------------------------------\n",
      "rf ac-sc: 0.857 pr-sc: 0.857 rc-sc: 0.857\n",
      "rf ac-sc: 0.429 pr-sc: 0.231 rc-sc: 0.429\n",
      "rf ac-sc: 0.929 pr-sc: 0.938 rc-sc: 0.929\n",
      "----------------------------------------------------\n",
      "--------------PROMEDIOS--DE-- rf -------------------------\n",
      "Accuracy 0.738 precision_score 0.675 recall_score 0.738\n",
      "----------------------------------------------------\n",
      "----------------------------------------------------\n",
      "gb ac-sc: 0.357 pr-sc: 0.208 rc-sc: 0.357\n",
      "gb ac-sc: 0.571 pr-sc: 0.769 rc-sc: 0.571\n",
      "gb ac-sc: 0.571 pr-sc: 0.571 rc-sc: 0.571\n",
      "----------------------------------------------------\n",
      "--------------PROMEDIOS--DE-- gb -------------------------\n",
      "Accuracy 0.5 precision_score 0.516 recall_score 0.5\n",
      "----------------------------------------------------\n",
      "----------------------------------------------------\n",
      "cb ac-sc: 0.429 pr-sc: 0.231 rc-sc: 0.429\n",
      "cb ac-sc: 0.857 pr-sc: 0.857 rc-sc: 0.857\n",
      "cb ac-sc: 0.786 pr-sc: 0.792 rc-sc: 0.786\n",
      "----------------------------------------------------\n",
      "--------------PROMEDIOS--DE-- cb -------------------------\n",
      "Accuracy 0.69 precision_score 0.627 recall_score 0.69\n",
      "----------------------------------------------------\n",
      "----------------------------------------------------\n"
     ]
    }
   ],
   "source": [
    "skf = StratifiedKFold(n_splits=3, shuffle=True) # 5 folds es un número típico si tenemos suficientes datos. Pedimos shuffle=True para que sea al azar la separación en subgrupos\n",
    "skf.get_n_splits(X_, y_) # arma los folds a partir de los datos\n",
    "\n",
    "# acc_values = [] # aca es donde van a ir a parar los accuracys de cada fold\n",
    "# pr_sc_values = [] # aca es donde van a ir a parar los accuracys de cada fold\n",
    "# rc_sc_values = [] # aca es donde van a ir a parar los accuracys de cada fold\n",
    "# scores = np.array([])     # aca es donde van a ir a parar los scores computados para todos los casos\n",
    "# indices = np.array([])    # aca es donde van a ir a parar los indices correspondientes a las entradas de scores\n",
    "fit_models = {}\n",
    "\n",
    "for algo, pipeline in pipelines.items():\n",
    "      acc_values = []\n",
    "      pr_sc_values = [] \n",
    "      rc_sc_values = []\n",
    "      for train_index, test_index in skf.split(X_, y_): # va generando los indices que corresponden a train y test en cada fold\n",
    "            X_train_, X_test_ = X_.iloc[train_index], X_.iloc[test_index] # arma que es dato de entrenamiento y qué es dato de evaluación\n",
    "            y_train_, y_test_ = y_.iloc[train_index], y_.iloc[test_index]     # idem con los targets\n",
    "            \n",
    "            scaler = StandardScaler() # primero creo un objeto MinMaxScaler. Por defecto, esto normaliza los datos al intervalo [0,1]\n",
    "            scaler.fit(X_train_) # encuentro los parametros para el escaleo\n",
    "            X_train_ = scaler.transform(X_train_) # aplico la transformacion\n",
    "\n",
    "            scaler = StandardScaler() # primero creo un objeto MinMaxScaler. Por defecto, esto normaliza los datos al intervalo [0,1]\n",
    "            scaler.fit(X_test_) # encuentro los parametros para el escaleo\n",
    "            X_test_ = scaler.transform(X_test_) # aplico la transformacion\n",
    "            \n",
    "            model = pipeline.fit(X_train_, np.ravel(y_train_))\n",
    "            probas_test = model.predict(X_test_)  # probabilidades con datos de evaluación\n",
    "            \n",
    "            acc_test = accuracy_score(y_test_, probas_test)\n",
    "            pr_sc = precision_score(y_test_.values, probas_test, average=\"weighted\", pos_label=1)\n",
    "            rc_sc = recall_score(y_test_.values, probas_test, average=\"weighted\", pos_label=1)\n",
    "            \n",
    "            acc_values.append(acc_test)\n",
    "            pr_sc_values.append(pr_sc)\n",
    "            rc_sc_values.append(rc_sc)\n",
    "            \n",
    "            print(algo,'ac-sc: {}'.format(round(accuracy_score(y_test_, probas_test),3)),\n",
    "                  'pr-sc: {}'.format(round(precision_score(y_test_.values, probas_test, average=\"weighted\", pos_label=\"arriba\"),3)),\n",
    "                  'rc-sc: {}'.format(round(recall_score(y_test_.values, probas_test, average=\"weighted\", pos_label=\"arriba\"),3)))\n",
    "      fit_models[algo] = model\n",
    "            \n",
    "      print('----------------------------------------------------')\n",
    "      print('--------------PROMEDIOS--DE--',algo,'-------------------------')\n",
    "      print('Accuracy {}'.format(round(np.mean(acc_values),3)), \n",
    "      'precision_score {}'.format(round(np.mean(pr_sc_values),3)),\n",
    "      'recall_score {}'.format(round(np.mean(rc_sc_values),3)))\n",
    "      print('----------------------------------------------------')\n",
    "      print('----------------------------------------------------')\n",
    "      # fpr_test, tpr_test, thresholds_test = roc_curve(y_test, probas_test[:,1]) # para plotear curva ROC con datos de entrenamiento\n",
    "      # auc_test = roc_auc_score(y_test, probas_test[:,1]) #  AUC con datos de evaluación\n",
    "\n",
    "      # auc_values.append(auc_test)\n",
    "      # scores = np.concatenate((scores,probas_test[:,1]),axis=0)\n",
    "      # indices = np.concatenate((indices,test_index),axis=0)\n",
    "      fit_models[algo] = model"
   ]
  },
  {
   "cell_type": "code",
   "execution_count": 96,
   "metadata": {},
   "outputs": [
    {
     "name": "stdout",
     "output_type": "stream",
     "text": [
      "----------------------------------------------------\n",
      "--------------PROMEDIOS--DE-- cb -------------------------\n",
      "Accuracy 0.69 precision_score 0.627 recall_score 0.69\n",
      "----------------------------------------------------\n",
      "----------------------------------------------------\n"
     ]
    }
   ],
   "source": [
    "      print('----------------------------------------------------')\n",
    "      print('--------------PROMEDIOS--DE--',algo,'-------------------------')\n",
    "      print('Accuracy {}'.format(round(np.mean(acc_values),3)), \n",
    "      'precision_score {}'.format(round(np.mean(pr_sc_values),3)),\n",
    "      'recall_score {}'.format(round(np.mean(rc_sc_values),3)))\n",
    "      print('----------------------------------------------------')\n",
    "      print('----------------------------------------------------')"
   ]
  },
  {
   "cell_type": "code",
   "execution_count": 97,
   "metadata": {},
   "outputs": [],
   "source": [
    "X_test = X_test.values"
   ]
  },
  {
   "cell_type": "code",
   "execution_count": 98,
   "metadata": {},
   "outputs": [],
   "source": [
    "y_predicted = fit_models['cb'].predict_proba(X_test)"
   ]
  },
  {
   "cell_type": "code",
   "execution_count": 99,
   "metadata": {},
   "outputs": [
    {
     "data": {
      "text/plain": [
       "array([[0.18973835, 0.81026165],\n",
       "       [0.18973835, 0.81026165],\n",
       "       [0.18973835, 0.81026165],\n",
       "       [0.18973835, 0.81026165],\n",
       "       [0.18973835, 0.81026165],\n",
       "       [0.18973835, 0.81026165],\n",
       "       [0.18973835, 0.81026165],\n",
       "       [0.18973835, 0.81026165],\n",
       "       [0.18973835, 0.81026165],\n",
       "       [0.18973835, 0.81026165],\n",
       "       [0.18973835, 0.81026165],\n",
       "       [0.18973835, 0.81026165],\n",
       "       [0.18973835, 0.81026165],\n",
       "       [0.18973835, 0.81026165],\n",
       "       [0.18973835, 0.81026165]])"
      ]
     },
     "execution_count": 99,
     "metadata": {},
     "output_type": "execute_result"
    }
   ],
   "source": [
    "y_predicted"
   ]
  },
  {
   "cell_type": "code",
   "execution_count": null,
   "metadata": {},
   "outputs": [],
   "source": []
  }
 ],
 "metadata": {
  "kernelspec": {
   "display_name": "venv",
   "language": "python",
   "name": "python3"
  },
  "language_info": {
   "codemirror_mode": {
    "name": "ipython",
    "version": 3
   },
   "file_extension": ".py",
   "mimetype": "text/x-python",
   "name": "python",
   "nbconvert_exporter": "python",
   "pygments_lexer": "ipython3",
   "version": "3.8.10"
  },
  "orig_nbformat": 4
 },
 "nbformat": 4,
 "nbformat_minor": 2
}
